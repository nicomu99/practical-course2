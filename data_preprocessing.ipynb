{
 "cells": [
  {
   "metadata": {},
   "cell_type": "markdown",
   "source": [
    "# Data Preprocessing\n",
    "\n",
    "In this notebook, the data is prepared for training. It contains the following steps:\n",
    "\n",
    "- Remove duplicate lines\n",
    "- Remove personas with equal performance."
   ],
   "id": "799d676a0f136f3c"
  },
  {
   "metadata": {
    "ExecuteTime": {
     "end_time": "2025-05-30T12:20:19.430890Z",
     "start_time": "2025-05-30T12:20:19.059411Z"
    }
   },
   "cell_type": "code",
   "source": [
    "import pandas as pd\n",
    "import re"
   ],
   "id": "6abadd7529d6f393",
   "outputs": [],
   "execution_count": 1
  },
  {
   "metadata": {
    "ExecuteTime": {
     "end_time": "2025-05-30T12:20:20.357925Z",
     "start_time": "2025-05-30T12:20:19.440886Z"
    }
   },
   "cell_type": "code",
   "source": "data = pd.read_parquet('data/agent_compt.parquet')",
   "id": "58019c1a93cf850",
   "outputs": [],
   "execution_count": 2
  },
  {
   "metadata": {},
   "cell_type": "markdown",
   "source": [
    "## Check inputs with 16 personas\n",
    "\n",
    "We assume that these are always duplicates, but further analysis has shown that this is not true."
   ],
   "id": "7cdb8e2c44691d5d"
  },
  {
   "metadata": {
    "ExecuteTime": {
     "end_time": "2025-05-30T12:20:20.485152Z",
     "start_time": "2025-05-30T12:20:20.432708Z"
    }
   },
   "cell_type": "code",
   "source": [
    "counts = data['input'].map(data['input'].value_counts())\n",
    "filtered_df = data[counts == 16]\n",
    "filtered_df"
   ],
   "id": "c8d5904b0c99b965",
   "outputs": [
    {
     "data": {
      "text/plain": [
       "         dataset category                                              input  \\\n",
       "2824    mmlu_pro   health  A 14-year-old girl is brought to the physician...   \n",
       "2825    mmlu_pro   health  A 14-year-old girl is brought to the physician...   \n",
       "2826    mmlu_pro   health  A 14-year-old girl is brought to the physician...   \n",
       "2827    mmlu_pro   health  A 14-year-old girl is brought to the physician...   \n",
       "2828    mmlu_pro   health  A 14-year-old girl is brought to the physician...   \n",
       "...          ...      ...                                                ...   \n",
       "168787  mmlu_pro      law  Who said that “Jurisprudence is the eye of law...   \n",
       "168788  mmlu_pro      law  Who said that “Jurisprudence is the eye of law...   \n",
       "168789  mmlu_pro      law  Who said that “Jurisprudence is the eye of law...   \n",
       "168790  mmlu_pro      law  Who said that “Jurisprudence is the eye of law...   \n",
       "168791  mmlu_pro      law  Who said that “Jurisprudence is the eye of law...   \n",
       "\n",
       "                                                    agent  \\\n",
       "2824    You are a psychiatrist or therapist specializi...   \n",
       "2825    You are a trained medical professional special...   \n",
       "2826    You are a psychologist specializing in adolesc...   \n",
       "2827    You are a licensed psychologist or psychiatris...   \n",
       "2828    You are a skilled mental health professional, ...   \n",
       "...                                                   ...   \n",
       "168787  You are a legal scholar, perhaps a professor s...   \n",
       "168788  You are Salmond, a renowned Scottish legal sch...   \n",
       "168789  You are a legal scholar specializing in the hi...   \n",
       "168790  You are a legal scholar with a deep understand...   \n",
       "168791  You are a legal scholar specializing in the hi...   \n",
       "\n",
       "                                                 response ground_truth pred  \\\n",
       "2824    The correct answer is **(A) Acting out**. Here...            A    A   \n",
       "2825    The most likely defense mechanism the patient ...            A    A   \n",
       "2826    The most likely defense mechanism the patient ...            A    A   \n",
       "2827    The best answer here is **(A) Acting out**. He...            A    A   \n",
       "2828    The answer is **(A) Acting out**. Here's why:\\...            A    A   \n",
       "...                                                   ...          ...  ...   \n",
       "168787  The answer is **(C) Savigny**.\\n\\nThis maxim, ...            H    C   \n",
       "168788  The answer is **(A) Pound**.  \\n\\n**Roscoe Pou...            H    A   \n",
       "168789  The correct answer is **(G) Blackstone**. \\n\\n...            H    G   \n",
       "168790  The answer is **(A) Pound**. \\n\\nHere's why:\\n...            H    A   \n",
       "168791  The correct answer is **(A) Pound**.\\n\\nHere's...            H    A   \n",
       "\n",
       "        score  \n",
       "2824        1  \n",
       "2825        1  \n",
       "2826        1  \n",
       "2827        1  \n",
       "2828        1  \n",
       "...       ...  \n",
       "168787      0  \n",
       "168788      0  \n",
       "168789      0  \n",
       "168790      0  \n",
       "168791      0  \n",
       "\n",
       "[2544 rows x 8 columns]"
      ],
      "text/html": [
       "<div>\n",
       "<style scoped>\n",
       "    .dataframe tbody tr th:only-of-type {\n",
       "        vertical-align: middle;\n",
       "    }\n",
       "\n",
       "    .dataframe tbody tr th {\n",
       "        vertical-align: top;\n",
       "    }\n",
       "\n",
       "    .dataframe thead th {\n",
       "        text-align: right;\n",
       "    }\n",
       "</style>\n",
       "<table border=\"1\" class=\"dataframe\">\n",
       "  <thead>\n",
       "    <tr style=\"text-align: right;\">\n",
       "      <th></th>\n",
       "      <th>dataset</th>\n",
       "      <th>category</th>\n",
       "      <th>input</th>\n",
       "      <th>agent</th>\n",
       "      <th>response</th>\n",
       "      <th>ground_truth</th>\n",
       "      <th>pred</th>\n",
       "      <th>score</th>\n",
       "    </tr>\n",
       "  </thead>\n",
       "  <tbody>\n",
       "    <tr>\n",
       "      <th>2824</th>\n",
       "      <td>mmlu_pro</td>\n",
       "      <td>health</td>\n",
       "      <td>A 14-year-old girl is brought to the physician...</td>\n",
       "      <td>You are a psychiatrist or therapist specializi...</td>\n",
       "      <td>The correct answer is **(A) Acting out**. Here...</td>\n",
       "      <td>A</td>\n",
       "      <td>A</td>\n",
       "      <td>1</td>\n",
       "    </tr>\n",
       "    <tr>\n",
       "      <th>2825</th>\n",
       "      <td>mmlu_pro</td>\n",
       "      <td>health</td>\n",
       "      <td>A 14-year-old girl is brought to the physician...</td>\n",
       "      <td>You are a trained medical professional special...</td>\n",
       "      <td>The most likely defense mechanism the patient ...</td>\n",
       "      <td>A</td>\n",
       "      <td>A</td>\n",
       "      <td>1</td>\n",
       "    </tr>\n",
       "    <tr>\n",
       "      <th>2826</th>\n",
       "      <td>mmlu_pro</td>\n",
       "      <td>health</td>\n",
       "      <td>A 14-year-old girl is brought to the physician...</td>\n",
       "      <td>You are a psychologist specializing in adolesc...</td>\n",
       "      <td>The most likely defense mechanism the patient ...</td>\n",
       "      <td>A</td>\n",
       "      <td>A</td>\n",
       "      <td>1</td>\n",
       "    </tr>\n",
       "    <tr>\n",
       "      <th>2827</th>\n",
       "      <td>mmlu_pro</td>\n",
       "      <td>health</td>\n",
       "      <td>A 14-year-old girl is brought to the physician...</td>\n",
       "      <td>You are a licensed psychologist or psychiatris...</td>\n",
       "      <td>The best answer here is **(A) Acting out**. He...</td>\n",
       "      <td>A</td>\n",
       "      <td>A</td>\n",
       "      <td>1</td>\n",
       "    </tr>\n",
       "    <tr>\n",
       "      <th>2828</th>\n",
       "      <td>mmlu_pro</td>\n",
       "      <td>health</td>\n",
       "      <td>A 14-year-old girl is brought to the physician...</td>\n",
       "      <td>You are a skilled mental health professional, ...</td>\n",
       "      <td>The answer is **(A) Acting out**. Here's why:\\...</td>\n",
       "      <td>A</td>\n",
       "      <td>A</td>\n",
       "      <td>1</td>\n",
       "    </tr>\n",
       "    <tr>\n",
       "      <th>...</th>\n",
       "      <td>...</td>\n",
       "      <td>...</td>\n",
       "      <td>...</td>\n",
       "      <td>...</td>\n",
       "      <td>...</td>\n",
       "      <td>...</td>\n",
       "      <td>...</td>\n",
       "      <td>...</td>\n",
       "    </tr>\n",
       "    <tr>\n",
       "      <th>168787</th>\n",
       "      <td>mmlu_pro</td>\n",
       "      <td>law</td>\n",
       "      <td>Who said that “Jurisprudence is the eye of law...</td>\n",
       "      <td>You are a legal scholar, perhaps a professor s...</td>\n",
       "      <td>The answer is **(C) Savigny**.\\n\\nThis maxim, ...</td>\n",
       "      <td>H</td>\n",
       "      <td>C</td>\n",
       "      <td>0</td>\n",
       "    </tr>\n",
       "    <tr>\n",
       "      <th>168788</th>\n",
       "      <td>mmlu_pro</td>\n",
       "      <td>law</td>\n",
       "      <td>Who said that “Jurisprudence is the eye of law...</td>\n",
       "      <td>You are Salmond, a renowned Scottish legal sch...</td>\n",
       "      <td>The answer is **(A) Pound**.  \\n\\n**Roscoe Pou...</td>\n",
       "      <td>H</td>\n",
       "      <td>A</td>\n",
       "      <td>0</td>\n",
       "    </tr>\n",
       "    <tr>\n",
       "      <th>168789</th>\n",
       "      <td>mmlu_pro</td>\n",
       "      <td>law</td>\n",
       "      <td>Who said that “Jurisprudence is the eye of law...</td>\n",
       "      <td>You are a legal scholar specializing in the hi...</td>\n",
       "      <td>The correct answer is **(G) Blackstone**. \\n\\n...</td>\n",
       "      <td>H</td>\n",
       "      <td>G</td>\n",
       "      <td>0</td>\n",
       "    </tr>\n",
       "    <tr>\n",
       "      <th>168790</th>\n",
       "      <td>mmlu_pro</td>\n",
       "      <td>law</td>\n",
       "      <td>Who said that “Jurisprudence is the eye of law...</td>\n",
       "      <td>You are a legal scholar with a deep understand...</td>\n",
       "      <td>The answer is **(A) Pound**. \\n\\nHere's why:\\n...</td>\n",
       "      <td>H</td>\n",
       "      <td>A</td>\n",
       "      <td>0</td>\n",
       "    </tr>\n",
       "    <tr>\n",
       "      <th>168791</th>\n",
       "      <td>mmlu_pro</td>\n",
       "      <td>law</td>\n",
       "      <td>Who said that “Jurisprudence is the eye of law...</td>\n",
       "      <td>You are a legal scholar specializing in the hi...</td>\n",
       "      <td>The correct answer is **(A) Pound**.\\n\\nHere's...</td>\n",
       "      <td>H</td>\n",
       "      <td>A</td>\n",
       "      <td>0</td>\n",
       "    </tr>\n",
       "  </tbody>\n",
       "</table>\n",
       "<p>2544 rows × 8 columns</p>\n",
       "</div>"
      ]
     },
     "execution_count": 3,
     "metadata": {},
     "output_type": "execute_result"
    }
   ],
   "execution_count": 3
  },
  {
   "metadata": {},
   "cell_type": "markdown",
   "source": "Even though some agents seem to be duplicates, they are just very similar. Some seem to be very similar, yet not the same. So inputs with 16 agents seem to be part of the dataset.",
   "id": "a30475d13d600414"
  },
  {
   "metadata": {},
   "cell_type": "markdown",
   "source": [
    "## Remove trailing line breaks\n",
    "\n",
    "Some rows contain agent strings that only differ by a double line break. We remove the double line breaks so the duplicates get identified correctly."
   ],
   "id": "fa5504912badb630"
  },
  {
   "metadata": {
    "ExecuteTime": {
     "end_time": "2025-05-30T12:20:20.830735Z",
     "start_time": "2025-05-30T12:20:20.513444Z"
    }
   },
   "cell_type": "code",
   "source": [
    "data['agent'] = data['agent'].str.replace('\\\\n\\\\n', '\\\\n', regex=True)\n",
    "data['agent'] = data['agent'].str.rstrip()"
   ],
   "id": "fd1b5b7c40329f21",
   "outputs": [],
   "execution_count": 4
  },
  {
   "metadata": {},
   "cell_type": "markdown",
   "source": "## Swap 'None' with empty string",
   "id": "69aec1b67a5d8640"
  },
  {
   "metadata": {
    "ExecuteTime": {
     "end_time": "2025-05-30T12:20:21.062425Z",
     "start_time": "2025-05-30T12:20:20.889142Z"
    }
   },
   "cell_type": "code",
   "source": "data = data.replace({None: ''})",
   "id": "ddc987a7daf7dc3e",
   "outputs": [],
   "execution_count": 5
  },
  {
   "metadata": {},
   "cell_type": "markdown",
   "source": "## Get rid of chat markers",
   "id": "1a34734ad5104859"
  },
  {
   "metadata": {
    "ExecuteTime": {
     "end_time": "2025-05-30T12:20:21.333741Z",
     "start_time": "2025-05-30T12:20:21.114528Z"
    }
   },
   "cell_type": "code",
   "source": "data['input'] = data['input'].apply(lambda x: x.replace('<end_of_turn>\\n<start_of_turn>model\\n', '').strip())",
   "id": "886c58e7ff33988b",
   "outputs": [],
   "execution_count": 6
  },
  {
   "metadata": {},
   "cell_type": "markdown",
   "source": "## Remove any duplicates",
   "id": "a8df612e135f7960"
  },
  {
   "metadata": {
    "ExecuteTime": {
     "end_time": "2025-05-30T12:20:24.249362Z",
     "start_time": "2025-05-30T12:20:21.460958Z"
    }
   },
   "cell_type": "code",
   "source": [
    "data['agent'] = data['agent'].str.split('\\n\\n').str[0]\n",
    "def clean_agent(text):\n",
    "    # Truncate after double new line\n",
    "    text = text.split('\\n\\n')[0]\n",
    "\n",
    "    # Remove Markdown text styles\n",
    "    text = re.sub(r'(\\*\\*|\\*|__|_)(.*?)\\1', r'\\2', text)\n",
    "\n",
    "    # Remove multiple whitespaces\n",
    "    text = re.sub(r'\\s+', ' ', text)\n",
    "    return text.strip()\n",
    "\n",
    "# Apply the function to the 'agent' column\n",
    "data['agent'] = data['agent'].apply(clean_agent)\n",
    "data_unique = data.drop_duplicates(subset=['input', 'agent'], keep='first')"
   ],
   "id": "5a527cd19ad4eb4d",
   "outputs": [],
   "execution_count": 7
  },
  {
   "metadata": {},
   "cell_type": "markdown",
   "source": "## Check outcome",
   "id": "50b7b049d96e638a"
  },
  {
   "metadata": {
    "ExecuteTime": {
     "end_time": "2025-05-30T12:20:24.455748Z",
     "start_time": "2025-05-30T12:20:24.282193Z"
    }
   },
   "cell_type": "code",
   "source": "data_unique['input'].value_counts().unique()",
   "id": "363b998b8712310a",
   "outputs": [
    {
     "data": {
      "text/plain": [
       "array([15, 14, 13, 12, 11, 10,  8,  7,  6,  5,  4,  3])"
      ]
     },
     "execution_count": 8,
     "metadata": {},
     "output_type": "execute_result"
    }
   ],
   "execution_count": 8
  },
  {
   "metadata": {
    "ExecuteTime": {
     "end_time": "2025-05-30T12:20:24.556922Z",
     "start_time": "2025-05-30T12:20:24.520562Z"
    }
   },
   "cell_type": "code",
   "source": "data_unique[data_unique['input'] == \"A 14-year-old girl is brought to the physician after her mother learned that she began having sexual intercourse with various partners 1 month ago. She does not use condoms or other contraception. The mother is concerned about her behavior. The patient's parents separated 3 months ago. She had been an honor student and excelled in sports and leadership positions at school before the separation. Since the separation, however, she has become sullen, defiant, and rebellious. She has begun smoking cigarettes, disobeying her curfew, and being truant from school. This patient is most likely using which of the following defense mechanisms?\\n(A) Acting out\\n(B) Intellectualization\\n(C) Projection\\n(D) Regression\\n(E) Displacement\\n(F) Rationalization\\n(G) Denial\\n(H) Repression\\n(I) Sublimation\\n(J) Reaction formation\"]",
   "id": "f1deced1c10ca06f",
   "outputs": [
    {
     "data": {
      "text/plain": [
       "       dataset category                                              input  \\\n",
       "2824  mmlu_pro   health  A 14-year-old girl is brought to the physician...   \n",
       "2825  mmlu_pro   health  A 14-year-old girl is brought to the physician...   \n",
       "2826  mmlu_pro   health  A 14-year-old girl is brought to the physician...   \n",
       "2827  mmlu_pro   health  A 14-year-old girl is brought to the physician...   \n",
       "2828  mmlu_pro   health  A 14-year-old girl is brought to the physician...   \n",
       "2829  mmlu_pro   health  A 14-year-old girl is brought to the physician...   \n",
       "2830  mmlu_pro   health  A 14-year-old girl is brought to the physician...   \n",
       "2831  mmlu_pro   health  A 14-year-old girl is brought to the physician...   \n",
       "2832  mmlu_pro   health  A 14-year-old girl is brought to the physician...   \n",
       "2833  mmlu_pro   health  A 14-year-old girl is brought to the physician...   \n",
       "2834  mmlu_pro   health  A 14-year-old girl is brought to the physician...   \n",
       "2835  mmlu_pro   health  A 14-year-old girl is brought to the physician...   \n",
       "2836  mmlu_pro   health  A 14-year-old girl is brought to the physician...   \n",
       "2837  mmlu_pro   health  A 14-year-old girl is brought to the physician...   \n",
       "2839  mmlu_pro   health  A 14-year-old girl is brought to the physician...   \n",
       "\n",
       "                                                  agent  \\\n",
       "2824  You are a psychiatrist or therapist specializi...   \n",
       "2825  You are a trained medical professional special...   \n",
       "2826  You are a psychologist specializing in adolesc...   \n",
       "2827  You are a licensed psychologist or psychiatris...   \n",
       "2828  You are a skilled mental health professional, ...   \n",
       "2829  You are a qualified psychiatrist or psychologi...   \n",
       "2830  You are a licensed therapist specializing in a...   \n",
       "2831  You are a licensed medical professional, speci...   \n",
       "2832  You are a medical professional specializing in...   \n",
       "2833  You are a qualified medical professional, like...   \n",
       "2834  You are a medical professional, likely a psych...   \n",
       "2835                                                      \n",
       "2836  You are a child psychologist specializing in a...   \n",
       "2837  You are a trained psychiatrist or psychologist...   \n",
       "2839  You are a qualified psychiatrist or psychologi...   \n",
       "\n",
       "                                               response ground_truth pred  \\\n",
       "2824  The correct answer is **(A) Acting out**. Here...            A    A   \n",
       "2825  The most likely defense mechanism the patient ...            A    A   \n",
       "2826  The most likely defense mechanism the patient ...            A    A   \n",
       "2827  The best answer here is **(A) Acting out**. He...            A    A   \n",
       "2828  The answer is **(A) Acting out**. Here's why:\\...            A    A   \n",
       "2829  The most likely defense mechanism at play here...            A    A   \n",
       "2830  The answer is **(A) Acting out**. Here's why:\\...            A    A   \n",
       "2831  The most likely defense mechanism at play here...            A    A   \n",
       "2832  The most likely defense mechanism at play here...            A    A   \n",
       "2833  The answer is **(A) Acting out**. Here's why:\\...            A    A   \n",
       "2834  This situation points strongly to **(A) Acting...            A    A   \n",
       "2835  The most likely defense mechanism in this scen...            A    A   \n",
       "2836  The answer is **(A) Acting out**. Here's why:\\...            A    A   \n",
       "2837  The best answer here is **(A) Acting out**. He...            A    A   \n",
       "2839  The most likely defense mechanism the patient ...            A    A   \n",
       "\n",
       "      score  \n",
       "2824      1  \n",
       "2825      1  \n",
       "2826      1  \n",
       "2827      1  \n",
       "2828      1  \n",
       "2829      1  \n",
       "2830      1  \n",
       "2831      1  \n",
       "2832      1  \n",
       "2833      1  \n",
       "2834      1  \n",
       "2835      1  \n",
       "2836      1  \n",
       "2837      1  \n",
       "2839      1  "
      ],
      "text/html": [
       "<div>\n",
       "<style scoped>\n",
       "    .dataframe tbody tr th:only-of-type {\n",
       "        vertical-align: middle;\n",
       "    }\n",
       "\n",
       "    .dataframe tbody tr th {\n",
       "        vertical-align: top;\n",
       "    }\n",
       "\n",
       "    .dataframe thead th {\n",
       "        text-align: right;\n",
       "    }\n",
       "</style>\n",
       "<table border=\"1\" class=\"dataframe\">\n",
       "  <thead>\n",
       "    <tr style=\"text-align: right;\">\n",
       "      <th></th>\n",
       "      <th>dataset</th>\n",
       "      <th>category</th>\n",
       "      <th>input</th>\n",
       "      <th>agent</th>\n",
       "      <th>response</th>\n",
       "      <th>ground_truth</th>\n",
       "      <th>pred</th>\n",
       "      <th>score</th>\n",
       "    </tr>\n",
       "  </thead>\n",
       "  <tbody>\n",
       "    <tr>\n",
       "      <th>2824</th>\n",
       "      <td>mmlu_pro</td>\n",
       "      <td>health</td>\n",
       "      <td>A 14-year-old girl is brought to the physician...</td>\n",
       "      <td>You are a psychiatrist or therapist specializi...</td>\n",
       "      <td>The correct answer is **(A) Acting out**. Here...</td>\n",
       "      <td>A</td>\n",
       "      <td>A</td>\n",
       "      <td>1</td>\n",
       "    </tr>\n",
       "    <tr>\n",
       "      <th>2825</th>\n",
       "      <td>mmlu_pro</td>\n",
       "      <td>health</td>\n",
       "      <td>A 14-year-old girl is brought to the physician...</td>\n",
       "      <td>You are a trained medical professional special...</td>\n",
       "      <td>The most likely defense mechanism the patient ...</td>\n",
       "      <td>A</td>\n",
       "      <td>A</td>\n",
       "      <td>1</td>\n",
       "    </tr>\n",
       "    <tr>\n",
       "      <th>2826</th>\n",
       "      <td>mmlu_pro</td>\n",
       "      <td>health</td>\n",
       "      <td>A 14-year-old girl is brought to the physician...</td>\n",
       "      <td>You are a psychologist specializing in adolesc...</td>\n",
       "      <td>The most likely defense mechanism the patient ...</td>\n",
       "      <td>A</td>\n",
       "      <td>A</td>\n",
       "      <td>1</td>\n",
       "    </tr>\n",
       "    <tr>\n",
       "      <th>2827</th>\n",
       "      <td>mmlu_pro</td>\n",
       "      <td>health</td>\n",
       "      <td>A 14-year-old girl is brought to the physician...</td>\n",
       "      <td>You are a licensed psychologist or psychiatris...</td>\n",
       "      <td>The best answer here is **(A) Acting out**. He...</td>\n",
       "      <td>A</td>\n",
       "      <td>A</td>\n",
       "      <td>1</td>\n",
       "    </tr>\n",
       "    <tr>\n",
       "      <th>2828</th>\n",
       "      <td>mmlu_pro</td>\n",
       "      <td>health</td>\n",
       "      <td>A 14-year-old girl is brought to the physician...</td>\n",
       "      <td>You are a skilled mental health professional, ...</td>\n",
       "      <td>The answer is **(A) Acting out**. Here's why:\\...</td>\n",
       "      <td>A</td>\n",
       "      <td>A</td>\n",
       "      <td>1</td>\n",
       "    </tr>\n",
       "    <tr>\n",
       "      <th>2829</th>\n",
       "      <td>mmlu_pro</td>\n",
       "      <td>health</td>\n",
       "      <td>A 14-year-old girl is brought to the physician...</td>\n",
       "      <td>You are a qualified psychiatrist or psychologi...</td>\n",
       "      <td>The most likely defense mechanism at play here...</td>\n",
       "      <td>A</td>\n",
       "      <td>A</td>\n",
       "      <td>1</td>\n",
       "    </tr>\n",
       "    <tr>\n",
       "      <th>2830</th>\n",
       "      <td>mmlu_pro</td>\n",
       "      <td>health</td>\n",
       "      <td>A 14-year-old girl is brought to the physician...</td>\n",
       "      <td>You are a licensed therapist specializing in a...</td>\n",
       "      <td>The answer is **(A) Acting out**. Here's why:\\...</td>\n",
       "      <td>A</td>\n",
       "      <td>A</td>\n",
       "      <td>1</td>\n",
       "    </tr>\n",
       "    <tr>\n",
       "      <th>2831</th>\n",
       "      <td>mmlu_pro</td>\n",
       "      <td>health</td>\n",
       "      <td>A 14-year-old girl is brought to the physician...</td>\n",
       "      <td>You are a licensed medical professional, speci...</td>\n",
       "      <td>The most likely defense mechanism at play here...</td>\n",
       "      <td>A</td>\n",
       "      <td>A</td>\n",
       "      <td>1</td>\n",
       "    </tr>\n",
       "    <tr>\n",
       "      <th>2832</th>\n",
       "      <td>mmlu_pro</td>\n",
       "      <td>health</td>\n",
       "      <td>A 14-year-old girl is brought to the physician...</td>\n",
       "      <td>You are a medical professional specializing in...</td>\n",
       "      <td>The most likely defense mechanism at play here...</td>\n",
       "      <td>A</td>\n",
       "      <td>A</td>\n",
       "      <td>1</td>\n",
       "    </tr>\n",
       "    <tr>\n",
       "      <th>2833</th>\n",
       "      <td>mmlu_pro</td>\n",
       "      <td>health</td>\n",
       "      <td>A 14-year-old girl is brought to the physician...</td>\n",
       "      <td>You are a qualified medical professional, like...</td>\n",
       "      <td>The answer is **(A) Acting out**. Here's why:\\...</td>\n",
       "      <td>A</td>\n",
       "      <td>A</td>\n",
       "      <td>1</td>\n",
       "    </tr>\n",
       "    <tr>\n",
       "      <th>2834</th>\n",
       "      <td>mmlu_pro</td>\n",
       "      <td>health</td>\n",
       "      <td>A 14-year-old girl is brought to the physician...</td>\n",
       "      <td>You are a medical professional, likely a psych...</td>\n",
       "      <td>This situation points strongly to **(A) Acting...</td>\n",
       "      <td>A</td>\n",
       "      <td>A</td>\n",
       "      <td>1</td>\n",
       "    </tr>\n",
       "    <tr>\n",
       "      <th>2835</th>\n",
       "      <td>mmlu_pro</td>\n",
       "      <td>health</td>\n",
       "      <td>A 14-year-old girl is brought to the physician...</td>\n",
       "      <td></td>\n",
       "      <td>The most likely defense mechanism in this scen...</td>\n",
       "      <td>A</td>\n",
       "      <td>A</td>\n",
       "      <td>1</td>\n",
       "    </tr>\n",
       "    <tr>\n",
       "      <th>2836</th>\n",
       "      <td>mmlu_pro</td>\n",
       "      <td>health</td>\n",
       "      <td>A 14-year-old girl is brought to the physician...</td>\n",
       "      <td>You are a child psychologist specializing in a...</td>\n",
       "      <td>The answer is **(A) Acting out**. Here's why:\\...</td>\n",
       "      <td>A</td>\n",
       "      <td>A</td>\n",
       "      <td>1</td>\n",
       "    </tr>\n",
       "    <tr>\n",
       "      <th>2837</th>\n",
       "      <td>mmlu_pro</td>\n",
       "      <td>health</td>\n",
       "      <td>A 14-year-old girl is brought to the physician...</td>\n",
       "      <td>You are a trained psychiatrist or psychologist...</td>\n",
       "      <td>The best answer here is **(A) Acting out**. He...</td>\n",
       "      <td>A</td>\n",
       "      <td>A</td>\n",
       "      <td>1</td>\n",
       "    </tr>\n",
       "    <tr>\n",
       "      <th>2839</th>\n",
       "      <td>mmlu_pro</td>\n",
       "      <td>health</td>\n",
       "      <td>A 14-year-old girl is brought to the physician...</td>\n",
       "      <td>You are a qualified psychiatrist or psychologi...</td>\n",
       "      <td>The most likely defense mechanism the patient ...</td>\n",
       "      <td>A</td>\n",
       "      <td>A</td>\n",
       "      <td>1</td>\n",
       "    </tr>\n",
       "  </tbody>\n",
       "</table>\n",
       "</div>"
      ]
     },
     "execution_count": 9,
     "metadata": {},
     "output_type": "execute_result"
    }
   ],
   "execution_count": 9
  },
  {
   "metadata": {},
   "cell_type": "markdown",
   "source": "There are still inputs with more than 8 different personas.",
   "id": "c3f3ff57b377162b"
  },
  {
   "metadata": {
    "ExecuteTime": {
     "end_time": "2025-05-30T12:20:24.648203Z",
     "start_time": "2025-05-30T12:20:24.644965Z"
    }
   },
   "cell_type": "code",
   "source": "print(f'Deleted rows: {len(data.index) - len(data_unique.index)}')",
   "id": "cd5fbdd117b3e037",
   "outputs": [
    {
     "name": "stdout",
     "output_type": "stream",
     "text": [
      "Deleted rows: 3413\n"
     ]
    }
   ],
   "execution_count": 10
  },
  {
   "metadata": {},
   "cell_type": "markdown",
   "source": "## Check for empty lines",
   "id": "13191e46c3c356be"
  },
  {
   "metadata": {
    "ExecuteTime": {
     "end_time": "2025-05-30T12:20:24.762297Z",
     "start_time": "2025-05-30T12:20:24.680428Z"
    }
   },
   "cell_type": "code",
   "source": "data_unique.info()",
   "id": "92350a22ee83d394",
   "outputs": [
    {
     "name": "stdout",
     "output_type": "stream",
     "text": [
      "<class 'pandas.core.frame.DataFrame'>\n",
      "Index: 171699 entries, 0 to 175111\n",
      "Data columns (total 8 columns):\n",
      " #   Column        Non-Null Count   Dtype \n",
      "---  ------        --------------   ----- \n",
      " 0   dataset       171699 non-null  object\n",
      " 1   category      171699 non-null  object\n",
      " 2   input         171699 non-null  object\n",
      " 3   agent         171699 non-null  object\n",
      " 4   response      171699 non-null  object\n",
      " 5   ground_truth  171699 non-null  object\n",
      " 6   pred          171699 non-null  object\n",
      " 7   score         171699 non-null  int64 \n",
      "dtypes: int64(1), object(7)\n",
      "memory usage: 11.8+ MB\n"
     ]
    }
   ],
   "execution_count": 11
  },
  {
   "metadata": {},
   "cell_type": "markdown",
   "source": "Empty agent column indicates no persona was used. This is not an actual empty line. These will not be deleted. All other columns contain the expected (full) amount of entries.",
   "id": "c35c60575aad7e1b"
  },
  {
   "metadata": {},
   "cell_type": "markdown",
   "source": [
    "## Clean unusable instances\n",
    "\n",
    "For the training to work, we need some sort of performance hierarchy between the agents. Thus, all instances will be deleted where either all or no agents are able to complete the task. We can not rank these agents since they all perform equally good or bad."
   ],
   "id": "5f4a8f8185ee9bf3"
  },
  {
   "metadata": {
    "ExecuteTime": {
     "end_time": "2025-05-30T12:20:27.711041Z",
     "start_time": "2025-05-30T12:20:24.797866Z"
    }
   },
   "cell_type": "code",
   "source": [
    "# Group rows by input and keep only if unique values in score is larger than 1 (as else, all would be the same)\n",
    "data_filtered = data_unique[data_unique.groupby('input')['score'].transform(lambda x: x.nunique() > 1)]"
   ],
   "id": "192a539268836fe4",
   "outputs": [],
   "execution_count": 12
  },
  {
   "metadata": {},
   "cell_type": "markdown",
   "source": "## Some information about the data",
   "id": "359ef1b21f85245d"
  },
  {
   "metadata": {
    "ExecuteTime": {
     "end_time": "2025-05-30T12:20:27.786983Z",
     "start_time": "2025-05-30T12:20:27.784138Z"
    }
   },
   "cell_type": "code",
   "source": "print(f'Deleted rows: {len(data.index) - len(data_filtered.index)}')",
   "id": "661f521cf76de0e9",
   "outputs": [
    {
     "name": "stdout",
     "output_type": "stream",
     "text": [
      "Deleted rows: 111101\n"
     ]
    }
   ],
   "execution_count": 13
  },
  {
   "metadata": {
    "ExecuteTime": {
     "end_time": "2025-05-30T12:20:27.808657Z",
     "start_time": "2025-05-30T12:20:27.805352Z"
    }
   },
   "cell_type": "code",
   "source": "print(f'Remaining rows: {len(data_filtered.index)}')",
   "id": "9bca2bf2ac5b1a2",
   "outputs": [
    {
     "name": "stdout",
     "output_type": "stream",
     "text": [
      "Remaining rows: 64011\n"
     ]
    }
   ],
   "execution_count": 14
  },
  {
   "metadata": {
    "ExecuteTime": {
     "end_time": "2025-05-30T12:20:27.960343Z",
     "start_time": "2025-05-30T12:20:27.902210Z"
    }
   },
   "cell_type": "code",
   "source": "print(f\"Avg. agents per prompt: {len(data_filtered) / len(data_filtered['input'].unique())}\")",
   "id": "f819a7e229e1403a",
   "outputs": [
    {
     "name": "stdout",
     "output_type": "stream",
     "text": [
      "Avg. agents per prompt: 7.925095951467129\n"
     ]
    }
   ],
   "execution_count": 15
  },
  {
   "metadata": {
    "ExecuteTime": {
     "end_time": "2025-05-30T12:20:27.986254Z",
     "start_time": "2025-05-30T12:20:27.976759Z"
    }
   },
   "cell_type": "code",
   "source": "print(f\"Number of winning agents: {len(data_filtered[data_filtered['score'] == 1])}\")",
   "id": "b546e9035277b9b3",
   "outputs": [
    {
     "name": "stdout",
     "output_type": "stream",
     "text": [
      "Number of winning agents: 32784\n"
     ]
    }
   ],
   "execution_count": 16
  },
  {
   "metadata": {
    "ExecuteTime": {
     "end_time": "2025-05-30T12:20:28.059280Z",
     "start_time": "2025-05-30T12:20:28.049728Z"
    }
   },
   "cell_type": "code",
   "source": "print(f\"Number of losing agents: {len(data_filtered[data_filtered['score'] == 0])}\")",
   "id": "b9490966637da6d",
   "outputs": [
    {
     "name": "stdout",
     "output_type": "stream",
     "text": [
      "Number of losing agents: 31227\n"
     ]
    }
   ],
   "execution_count": 17
  },
  {
   "metadata": {},
   "cell_type": "markdown",
   "source": "## Setup data for fine-tuning",
   "id": "94012c5f3df027e0"
  },
  {
   "metadata": {
    "ExecuteTime": {
     "end_time": "2025-05-30T12:21:32.446727Z",
     "start_time": "2025-05-30T12:21:32.428095Z"
    }
   },
   "cell_type": "code",
   "source": [
    "fine_tune_data = data_filtered[data_filtered['score'] == 1]\n",
    "fine_tune_data = fine_tune_data[fine_tune_data['agent'] != '']"
   ],
   "id": "5eac049ea7d89637",
   "outputs": [],
   "execution_count": 18
  },
  {
   "metadata": {
    "ExecuteTime": {
     "end_time": "2025-05-30T12:21:33.633598Z",
     "start_time": "2025-05-30T12:21:33.587238Z"
    }
   },
   "cell_type": "code",
   "source": [
    "finetune_task_string = 'Given the following task, print a suitable agent string that will answer it as good as possible: '\n",
    "fine_tune_data['prompt'] = finetune_task_string + fine_tune_data['input'].str.strip() + \"\\n\"\n",
    "fine_tune_data['completion'] = \" \" + fine_tune_data['agent'].str.strip()"
   ],
   "id": "8998f31049dca84c",
   "outputs": [],
   "execution_count": 19
  },
  {
   "metadata": {
    "ExecuteTime": {
     "end_time": "2025-05-30T12:21:36.206594Z",
     "start_time": "2025-05-30T12:21:36.196613Z"
    }
   },
   "cell_type": "code",
   "source": [
    "fine_tune_data = fine_tune_data[['prompt', 'completion']]\n",
    "fine_tune_data"
   ],
   "id": "3f03f56403628607",
   "outputs": [
    {
     "data": {
      "text/plain": [
       "                                                   prompt  \\\n",
       "2       Given the following task, print a suitable age...   \n",
       "3       Given the following task, print a suitable age...   \n",
       "4       Given the following task, print a suitable age...   \n",
       "6       Given the following task, print a suitable age...   \n",
       "7       Given the following task, print a suitable age...   \n",
       "...                                                   ...   \n",
       "175077  Given the following task, print a suitable age...   \n",
       "175079  Given the following task, print a suitable age...   \n",
       "175080  Given the following task, print a suitable age...   \n",
       "175084  Given the following task, print a suitable age...   \n",
       "175085  Given the following task, print a suitable age...   \n",
       "\n",
       "                                               completion  \n",
       "2        You are a classicist, perhaps with a focus on...  \n",
       "3        You are a classical scholar, specializing in ...  \n",
       "4        You are a Latin expert, familiar with the nua...  \n",
       "6        You are a klassically trained historian speci...  \n",
       "7        You are a scholar specializing in ancient Rom...  \n",
       "...                                                   ...  \n",
       "175077   You are a detective, skilled in examining det...  \n",
       "175079   This is a tricky prompt because you're lookin...  \n",
       "175080   You are a legal scholar, perhaps a professor ...  \n",
       "175084   You are a legal scholar, possibly a professor...  \n",
       "175085   You are a legal scholar or a knowledgeable ex...  \n",
       "\n",
       "[28675 rows x 2 columns]"
      ],
      "text/html": [
       "<div>\n",
       "<style scoped>\n",
       "    .dataframe tbody tr th:only-of-type {\n",
       "        vertical-align: middle;\n",
       "    }\n",
       "\n",
       "    .dataframe tbody tr th {\n",
       "        vertical-align: top;\n",
       "    }\n",
       "\n",
       "    .dataframe thead th {\n",
       "        text-align: right;\n",
       "    }\n",
       "</style>\n",
       "<table border=\"1\" class=\"dataframe\">\n",
       "  <thead>\n",
       "    <tr style=\"text-align: right;\">\n",
       "      <th></th>\n",
       "      <th>prompt</th>\n",
       "      <th>completion</th>\n",
       "    </tr>\n",
       "  </thead>\n",
       "  <tbody>\n",
       "    <tr>\n",
       "      <th>2</th>\n",
       "      <td>Given the following task, print a suitable age...</td>\n",
       "      <td>You are a classicist, perhaps with a focus on...</td>\n",
       "    </tr>\n",
       "    <tr>\n",
       "      <th>3</th>\n",
       "      <td>Given the following task, print a suitable age...</td>\n",
       "      <td>You are a classical scholar, specializing in ...</td>\n",
       "    </tr>\n",
       "    <tr>\n",
       "      <th>4</th>\n",
       "      <td>Given the following task, print a suitable age...</td>\n",
       "      <td>You are a Latin expert, familiar with the nua...</td>\n",
       "    </tr>\n",
       "    <tr>\n",
       "      <th>6</th>\n",
       "      <td>Given the following task, print a suitable age...</td>\n",
       "      <td>You are a klassically trained historian speci...</td>\n",
       "    </tr>\n",
       "    <tr>\n",
       "      <th>7</th>\n",
       "      <td>Given the following task, print a suitable age...</td>\n",
       "      <td>You are a scholar specializing in ancient Rom...</td>\n",
       "    </tr>\n",
       "    <tr>\n",
       "      <th>...</th>\n",
       "      <td>...</td>\n",
       "      <td>...</td>\n",
       "    </tr>\n",
       "    <tr>\n",
       "      <th>175077</th>\n",
       "      <td>Given the following task, print a suitable age...</td>\n",
       "      <td>You are a detective, skilled in examining det...</td>\n",
       "    </tr>\n",
       "    <tr>\n",
       "      <th>175079</th>\n",
       "      <td>Given the following task, print a suitable age...</td>\n",
       "      <td>This is a tricky prompt because you're lookin...</td>\n",
       "    </tr>\n",
       "    <tr>\n",
       "      <th>175080</th>\n",
       "      <td>Given the following task, print a suitable age...</td>\n",
       "      <td>You are a legal scholar, perhaps a professor ...</td>\n",
       "    </tr>\n",
       "    <tr>\n",
       "      <th>175084</th>\n",
       "      <td>Given the following task, print a suitable age...</td>\n",
       "      <td>You are a legal scholar, possibly a professor...</td>\n",
       "    </tr>\n",
       "    <tr>\n",
       "      <th>175085</th>\n",
       "      <td>Given the following task, print a suitable age...</td>\n",
       "      <td>You are a legal scholar or a knowledgeable ex...</td>\n",
       "    </tr>\n",
       "  </tbody>\n",
       "</table>\n",
       "<p>28675 rows × 2 columns</p>\n",
       "</div>"
      ]
     },
     "execution_count": 20,
     "metadata": {},
     "output_type": "execute_result"
    }
   ],
   "execution_count": 20
  },
  {
   "metadata": {
    "ExecuteTime": {
     "end_time": "2025-05-30T12:21:42.783682Z",
     "start_time": "2025-05-30T12:21:42.724385Z"
    }
   },
   "cell_type": "code",
   "source": "fine_tune_data.to_parquet('data/agent_finetune.parquet', index=False)",
   "id": "9a4294457147a8d8",
   "outputs": [],
   "execution_count": 21
  },
  {
   "metadata": {},
   "cell_type": "markdown",
   "source": [
    "## Setup training dataset to allow DPO training\n",
    "\n",
    "In this section, the actual dataset for training, testing and evaluating the model will be constructed. This will be done according to the documentation here: https://huggingface.co/docs/trl/main/en/dataset_formats#preference\n",
    "\n",
    "There are two possible formats standard and conversational, as well as implicit and explicit form. Please refer to the documentation linked above to see examples.\n",
    "\n",
    "In the following code, the dataset is built in the so-called standard format with explicit prompts (which is recommended).\n",
    "\n",
    "Training samples are tuples of $(x, y_w, y_l)$, where $y_w$ is a winning agent prompt string, $y_l$ is a losing agent prompt string and $x$ is the model input."
   ],
   "id": "27384701e1dee4a8"
  },
  {
   "metadata": {
    "ExecuteTime": {
     "end_time": "2025-04-14T09:39:51.911154Z",
     "start_time": "2025-04-14T09:39:37.594124Z"
    }
   },
   "cell_type": "code",
   "source": [
    "train_data = []\n",
    "analysis_data = []\n",
    "count = 0\n",
    "for input_val, group in data_filtered.groupby('input'):\n",
    "    # Group by input and get winning and losing outputs\n",
    "    winning_agents = group[group['score'] == 1]\n",
    "    losing_agents = group[group['score'] == 0]\n",
    "\n",
    "    for idx_winning, winning in winning_agents.iterrows():\n",
    "        for idx_losing, losing in losing_agents.iterrows():\n",
    "            # As a sanity check I want to check that the inputs are actually the same\n",
    "            if not winning['input'] == losing['input']:\n",
    "                raise Exception(\"Illegal combination of winning and losing input\")\n",
    "\n",
    "            # Task string was updated in favor of the new option\n",
    "            model_task = 'Given the following task, print a suitable agent string that will answer it as good as possible: '\n",
    "\n",
    "            # Actual dataset for training the model using conversational, explicit format\n",
    "            train_data.append({\n",
    "                'category': winning['category'],\n",
    "                'orig_prompt': input_val,\n",
    "                'prompt': [{'role': 'user', 'content': f'{model_task} {input_val}'}], # or losing['input'] or winning['input']\n",
    "                'chosen': [{'role': 'assistant', 'content': winning['agent']}],\n",
    "                'rejected': [{'role': 'assistant', 'content': losing['agent']}]\n",
    "            })\n",
    "\n",
    "            # The list entries of columns prompt and chosen are difficult to analyze\n",
    "            analysis_data.append({\n",
    "                'category': winning['category'],\n",
    "                'orig_prompt': input_val,\n",
    "                'prompt': f'{model_task} {input_val}', # or losing['input'] or winning['input']\n",
    "                'chosen': winning['agent'],\n",
    "                'rejected': losing['agent']\n",
    "            })"
   ],
   "id": "7dcd06923cb27933",
   "outputs": [],
   "execution_count": 21
  },
  {
   "metadata": {
    "ExecuteTime": {
     "end_time": "2025-04-14T09:39:51.922628Z",
     "start_time": "2025-04-14T09:39:51.917359Z"
    }
   },
   "cell_type": "code",
   "source": "print(f'Training (and test/eval) samples: {len(train_data)}')",
   "id": "c7dbcdc7b81c6259",
   "outputs": [
    {
     "name": "stdout",
     "output_type": "stream",
     "text": [
      "Training (and test/eval) samples: 85142\n"
     ]
    }
   ],
   "execution_count": 22
  },
  {
   "metadata": {
    "ExecuteTime": {
     "end_time": "2025-04-14T09:39:58.504060Z",
     "start_time": "2025-04-14T09:39:57.493768Z"
    }
   },
   "cell_type": "code",
   "source": [
    "train_df = pd.DataFrame(train_data)\n",
    "train_df.to_parquet('data/agent_prompt_cleaned.parquet', index=False)\n",
    "\n",
    "analysis_df = pd.DataFrame(analysis_data)\n",
    "analysis_df.to_parquet('data_analysis/agent_prompt_cleaned.parquet', index=False)"
   ],
   "id": "fea4ca4b70e90330",
   "outputs": [],
   "execution_count": 23
  },
  {
   "metadata": {
    "ExecuteTime": {
     "end_time": "2025-04-14T09:40:00.169802Z",
     "start_time": "2025-04-14T09:40:00.154505Z"
    }
   },
   "cell_type": "code",
   "source": "train_df.head()",
   "id": "e23782a7b62d7767",
   "outputs": [
    {
     "data": {
      "text/plain": [
       "     category                                        orig_prompt  \\\n",
       "0  philosophy  \" _Ad crumenam_ \" is a specific kind of\\n(A) S...   \n",
       "1  philosophy  \" _Ad crumenam_ \" is a specific kind of\\n(A) S...   \n",
       "2  philosophy  \" _Ad crumenam_ \" is a specific kind of\\n(A) S...   \n",
       "3  philosophy  \" _Ad crumenam_ \" is a specific kind of\\n(A) S...   \n",
       "4  philosophy  \" _Ad crumenam_ \" is a specific kind of\\n(A) S...   \n",
       "\n",
       "                                              prompt  \\\n",
       "0  [{'role': 'user', 'content': 'Given the follow...   \n",
       "1  [{'role': 'user', 'content': 'Given the follow...   \n",
       "2  [{'role': 'user', 'content': 'Given the follow...   \n",
       "3  [{'role': 'user', 'content': 'Given the follow...   \n",
       "4  [{'role': 'user', 'content': 'Given the follow...   \n",
       "\n",
       "                                              chosen  \\\n",
       "0             [{'role': 'assistant', 'content': ''}]   \n",
       "1             [{'role': 'assistant', 'content': ''}]   \n",
       "2  [{'role': 'assistant', 'content': 'You are a c...   \n",
       "3  [{'role': 'assistant', 'content': 'You are a c...   \n",
       "4  [{'role': 'assistant', 'content': 'You are a c...   \n",
       "\n",
       "                                            rejected  \n",
       "0  [{'role': 'assistant', 'content': 'You are a l...  \n",
       "1  [{'role': 'assistant', 'content': 'You are a s...  \n",
       "2  [{'role': 'assistant', 'content': 'You are a l...  \n",
       "3  [{'role': 'assistant', 'content': 'You are a s...  \n",
       "4  [{'role': 'assistant', 'content': 'You are a l...  "
      ],
      "text/html": [
       "<div>\n",
       "<style scoped>\n",
       "    .dataframe tbody tr th:only-of-type {\n",
       "        vertical-align: middle;\n",
       "    }\n",
       "\n",
       "    .dataframe tbody tr th {\n",
       "        vertical-align: top;\n",
       "    }\n",
       "\n",
       "    .dataframe thead th {\n",
       "        text-align: right;\n",
       "    }\n",
       "</style>\n",
       "<table border=\"1\" class=\"dataframe\">\n",
       "  <thead>\n",
       "    <tr style=\"text-align: right;\">\n",
       "      <th></th>\n",
       "      <th>category</th>\n",
       "      <th>orig_prompt</th>\n",
       "      <th>prompt</th>\n",
       "      <th>chosen</th>\n",
       "      <th>rejected</th>\n",
       "    </tr>\n",
       "  </thead>\n",
       "  <tbody>\n",
       "    <tr>\n",
       "      <th>0</th>\n",
       "      <td>philosophy</td>\n",
       "      <td>\" _Ad crumenam_ \" is a specific kind of\\n(A) S...</td>\n",
       "      <td>[{'role': 'user', 'content': 'Given the follow...</td>\n",
       "      <td>[{'role': 'assistant', 'content': ''}]</td>\n",
       "      <td>[{'role': 'assistant', 'content': 'You are a l...</td>\n",
       "    </tr>\n",
       "    <tr>\n",
       "      <th>1</th>\n",
       "      <td>philosophy</td>\n",
       "      <td>\" _Ad crumenam_ \" is a specific kind of\\n(A) S...</td>\n",
       "      <td>[{'role': 'user', 'content': 'Given the follow...</td>\n",
       "      <td>[{'role': 'assistant', 'content': ''}]</td>\n",
       "      <td>[{'role': 'assistant', 'content': 'You are a s...</td>\n",
       "    </tr>\n",
       "    <tr>\n",
       "      <th>2</th>\n",
       "      <td>philosophy</td>\n",
       "      <td>\" _Ad crumenam_ \" is a specific kind of\\n(A) S...</td>\n",
       "      <td>[{'role': 'user', 'content': 'Given the follow...</td>\n",
       "      <td>[{'role': 'assistant', 'content': 'You are a c...</td>\n",
       "      <td>[{'role': 'assistant', 'content': 'You are a l...</td>\n",
       "    </tr>\n",
       "    <tr>\n",
       "      <th>3</th>\n",
       "      <td>philosophy</td>\n",
       "      <td>\" _Ad crumenam_ \" is a specific kind of\\n(A) S...</td>\n",
       "      <td>[{'role': 'user', 'content': 'Given the follow...</td>\n",
       "      <td>[{'role': 'assistant', 'content': 'You are a c...</td>\n",
       "      <td>[{'role': 'assistant', 'content': 'You are a s...</td>\n",
       "    </tr>\n",
       "    <tr>\n",
       "      <th>4</th>\n",
       "      <td>philosophy</td>\n",
       "      <td>\" _Ad crumenam_ \" is a specific kind of\\n(A) S...</td>\n",
       "      <td>[{'role': 'user', 'content': 'Given the follow...</td>\n",
       "      <td>[{'role': 'assistant', 'content': 'You are a c...</td>\n",
       "      <td>[{'role': 'assistant', 'content': 'You are a l...</td>\n",
       "    </tr>\n",
       "  </tbody>\n",
       "</table>\n",
       "</div>"
      ]
     },
     "execution_count": 24,
     "metadata": {},
     "output_type": "execute_result"
    }
   ],
   "execution_count": 24
  },
  {
   "metadata": {},
   "cell_type": "markdown",
   "source": [
    "## Prepare test set\n",
    "\n",
    "Testing is performed on out-of-training categories with over 1000 inputs in the test set."
   ],
   "id": "e40fa123ec396eca"
  },
  {
   "metadata": {
    "ExecuteTime": {
     "end_time": "2025-04-14T09:40:03.247666Z",
     "start_time": "2025-04-14T09:40:03.232819Z"
    }
   },
   "cell_type": "code",
   "source": "train_df['category'].value_counts()",
   "id": "88079693304d0c1f",
   "outputs": [
    {
     "data": {
      "text/plain": [
       "category\n",
       "physics                      7307\n",
       "chemistry                    6050\n",
       "math                         5919\n",
       "truthfulqa                   4433\n",
       "engineering                  4220\n",
       "                             ... \n",
       "swahili_english_proverbs       64\n",
       "checkmate_in_one               56\n",
       "anachronisms                   50\n",
       "hindu_knowledge                37\n",
       "medical_questions_russian      26\n",
       "Name: count, Length: 72, dtype: int64"
      ]
     },
     "execution_count": 25,
     "metadata": {},
     "output_type": "execute_result"
    }
   ],
   "execution_count": 25
  },
  {
   "metadata": {
    "ExecuteTime": {
     "end_time": "2025-04-14T09:40:06.487875Z",
     "start_time": "2025-04-14T09:40:06.452338Z"
    }
   },
   "cell_type": "code",
   "source": [
    "test_categories = ['biology', 'philosophy', 'psychology',\n",
    "                   'social_iqa', 'arithmetic', 'elementary_math_qa', 'history', 'economics']\n",
    "\n",
    "test_df = train_df[train_df['category'].isin(test_categories)]\n",
    "train_df = train_df[~train_df['category'].isin(test_categories)]\n",
    "\n",
    "test_analysis_df = analysis_df[analysis_df['category'].isin(test_categories)]\n",
    "train_analysis_df = analysis_df[~analysis_df['category'].isin(test_categories)]\n",
    "len(test_df['category'])"
   ],
   "id": "e82e06e9bf36549b",
   "outputs": [
    {
     "data": {
      "text/plain": [
       "12962"
      ]
     },
     "execution_count": 26,
     "metadata": {},
     "output_type": "execute_result"
    }
   ],
   "execution_count": 26
  },
  {
   "metadata": {
    "ExecuteTime": {
     "end_time": "2025-04-14T09:40:08.363316Z",
     "start_time": "2025-04-14T09:40:08.351396Z"
    }
   },
   "cell_type": "code",
   "source": "len(test_df.orig_prompt.unique())",
   "id": "342b3bdab7966817",
   "outputs": [
    {
     "data": {
      "text/plain": [
       "1293"
      ]
     },
     "execution_count": 27,
     "metadata": {},
     "output_type": "execute_result"
    }
   ],
   "execution_count": 27
  },
  {
   "metadata": {
    "ExecuteTime": {
     "end_time": "2025-04-14T09:40:10.130305Z",
     "start_time": "2025-04-14T09:40:10.112359Z"
    }
   },
   "cell_type": "code",
   "source": [
    "test_df = test_df.drop(columns=['category', 'orig_prompt'])\n",
    "train_df = train_df.drop(columns=['category', 'orig_prompt'])"
   ],
   "id": "3ada6131e4c0d417",
   "outputs": [],
   "execution_count": 28
  },
  {
   "metadata": {
    "ExecuteTime": {
     "end_time": "2025-04-14T09:40:12.307793Z",
     "start_time": "2025-04-14T09:40:11.738639Z"
    }
   },
   "cell_type": "code",
   "source": [
    "test_df.to_parquet('data/agent_test.parquet', index=False)\n",
    "train_df.to_parquet('data/agent_train.parquet', index=False)\n",
    "\n",
    "test_analysis_df.to_parquet('data_analysis/agent_test.parquet', index=False)\n",
    "train_analysis_df.to_parquet('data_analysis/agent_train.parquet', index=False)"
   ],
   "id": "4b727b0c4a8fda5d",
   "outputs": [],
   "execution_count": 29
  }
 ],
 "metadata": {
  "kernelspec": {
   "display_name": "Python 3",
   "language": "python",
   "name": "python3"
  },
  "language_info": {
   "codemirror_mode": {
    "name": "ipython",
    "version": 2
   },
   "file_extension": ".py",
   "mimetype": "text/x-python",
   "name": "python",
   "nbconvert_exporter": "python",
   "pygments_lexer": "ipython2",
   "version": "2.7.6"
  }
 },
 "nbformat": 4,
 "nbformat_minor": 5
}
