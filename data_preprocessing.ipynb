{
 "cells": [
  {
   "metadata": {},
   "cell_type": "markdown",
   "source": [
    "# Data Preprocessing\n",
    "\n",
    "In this notebook, the data is prepared for training. It contains the following steps:\n",
    "\n",
    "- Remove duplicate lines\n",
    "- Remove personas with equal performance."
   ],
   "id": "799d676a0f136f3c"
  },
  {
   "metadata": {
    "ExecuteTime": {
     "end_time": "2025-03-05T13:52:59.799474Z",
     "start_time": "2025-03-05T13:52:59.424185Z"
    }
   },
   "cell_type": "code",
   "source": "import pandas as pd",
   "id": "6abadd7529d6f393",
   "outputs": [],
   "execution_count": 1
  },
  {
   "metadata": {
    "ExecuteTime": {
     "end_time": "2025-03-05T13:53:01.834700Z",
     "start_time": "2025-03-05T13:53:00.938240Z"
    }
   },
   "cell_type": "code",
   "source": "data = pd.read_parquet('data/agent_compt.parquet')",
   "id": "58019c1a93cf850",
   "outputs": [],
   "execution_count": 2
  },
  {
   "metadata": {},
   "cell_type": "markdown",
   "source": [
    "## Check inputs with 16 personas\n",
    "\n",
    "We assume that these are always duplicates, but further analysis has shown that this is not true."
   ],
   "id": "7cdb8e2c44691d5d"
  },
  {
   "metadata": {
    "ExecuteTime": {
     "end_time": "2025-03-05T13:53:04.600551Z",
     "start_time": "2025-03-05T13:53:04.525146Z"
    }
   },
   "cell_type": "code",
   "source": "counts = data['input'].map(data['input'].value_counts())",
   "id": "c8d5904b0c99b965",
   "outputs": [],
   "execution_count": 3
  },
  {
   "metadata": {
    "ExecuteTime": {
     "end_time": "2025-03-05T13:53:07.085226Z",
     "start_time": "2025-03-05T13:53:07.080591Z"
    }
   },
   "cell_type": "code",
   "source": "filtered_df = data[counts == 16]",
   "id": "b1c85469a4ce2f5d",
   "outputs": [],
   "execution_count": 4
  },
  {
   "metadata": {
    "ExecuteTime": {
     "end_time": "2025-03-05T13:53:11.059150Z",
     "start_time": "2025-03-05T13:53:11.043410Z"
    }
   },
   "cell_type": "code",
   "source": "filtered_df",
   "id": "f01a6e932168e1a5",
   "outputs": [
    {
     "data": {
      "text/plain": [
       "         dataset category                                              input  \\\n",
       "2824    mmlu_pro   health  A 14-year-old girl is brought to the physician...   \n",
       "2825    mmlu_pro   health  A 14-year-old girl is brought to the physician...   \n",
       "2826    mmlu_pro   health  A 14-year-old girl is brought to the physician...   \n",
       "2827    mmlu_pro   health  A 14-year-old girl is brought to the physician...   \n",
       "2828    mmlu_pro   health  A 14-year-old girl is brought to the physician...   \n",
       "...          ...      ...                                                ...   \n",
       "168787  mmlu_pro      law  Who said that “Jurisprudence is the eye of law...   \n",
       "168788  mmlu_pro      law  Who said that “Jurisprudence is the eye of law...   \n",
       "168789  mmlu_pro      law  Who said that “Jurisprudence is the eye of law...   \n",
       "168790  mmlu_pro      law  Who said that “Jurisprudence is the eye of law...   \n",
       "168791  mmlu_pro      law  Who said that “Jurisprudence is the eye of law...   \n",
       "\n",
       "                                                    agent  \\\n",
       "2824    You are a psychiatrist or therapist specializi...   \n",
       "2825    You are a trained medical professional special...   \n",
       "2826    You are a psychologist specializing in adolesc...   \n",
       "2827    You are a licensed psychologist or psychiatris...   \n",
       "2828    You are a skilled mental health professional, ...   \n",
       "...                                                   ...   \n",
       "168787  You are a legal scholar, perhaps a professor s...   \n",
       "168788  You are Salmond, a renowned Scottish legal sch...   \n",
       "168789  You are a legal scholar specializing in the hi...   \n",
       "168790  You are a legal scholar with a deep understand...   \n",
       "168791  You are a legal scholar specializing in the hi...   \n",
       "\n",
       "                                                 response ground_truth pred  \\\n",
       "2824    The correct answer is **(A) Acting out**. Here...            A    A   \n",
       "2825    The most likely defense mechanism the patient ...            A    A   \n",
       "2826    The most likely defense mechanism the patient ...            A    A   \n",
       "2827    The best answer here is **(A) Acting out**. He...            A    A   \n",
       "2828    The answer is **(A) Acting out**. Here's why:\\...            A    A   \n",
       "...                                                   ...          ...  ...   \n",
       "168787  The answer is **(C) Savigny**.\\n\\nThis maxim, ...            H    C   \n",
       "168788  The answer is **(A) Pound**.  \\n\\n**Roscoe Pou...            H    A   \n",
       "168789  The correct answer is **(G) Blackstone**. \\n\\n...            H    G   \n",
       "168790  The answer is **(A) Pound**. \\n\\nHere's why:\\n...            H    A   \n",
       "168791  The correct answer is **(A) Pound**.\\n\\nHere's...            H    A   \n",
       "\n",
       "        score  \n",
       "2824        1  \n",
       "2825        1  \n",
       "2826        1  \n",
       "2827        1  \n",
       "2828        1  \n",
       "...       ...  \n",
       "168787      0  \n",
       "168788      0  \n",
       "168789      0  \n",
       "168790      0  \n",
       "168791      0  \n",
       "\n",
       "[2544 rows x 8 columns]"
      ],
      "text/html": [
       "<div>\n",
       "<style scoped>\n",
       "    .dataframe tbody tr th:only-of-type {\n",
       "        vertical-align: middle;\n",
       "    }\n",
       "\n",
       "    .dataframe tbody tr th {\n",
       "        vertical-align: top;\n",
       "    }\n",
       "\n",
       "    .dataframe thead th {\n",
       "        text-align: right;\n",
       "    }\n",
       "</style>\n",
       "<table border=\"1\" class=\"dataframe\">\n",
       "  <thead>\n",
       "    <tr style=\"text-align: right;\">\n",
       "      <th></th>\n",
       "      <th>dataset</th>\n",
       "      <th>category</th>\n",
       "      <th>input</th>\n",
       "      <th>agent</th>\n",
       "      <th>response</th>\n",
       "      <th>ground_truth</th>\n",
       "      <th>pred</th>\n",
       "      <th>score</th>\n",
       "    </tr>\n",
       "  </thead>\n",
       "  <tbody>\n",
       "    <tr>\n",
       "      <th>2824</th>\n",
       "      <td>mmlu_pro</td>\n",
       "      <td>health</td>\n",
       "      <td>A 14-year-old girl is brought to the physician...</td>\n",
       "      <td>You are a psychiatrist or therapist specializi...</td>\n",
       "      <td>The correct answer is **(A) Acting out**. Here...</td>\n",
       "      <td>A</td>\n",
       "      <td>A</td>\n",
       "      <td>1</td>\n",
       "    </tr>\n",
       "    <tr>\n",
       "      <th>2825</th>\n",
       "      <td>mmlu_pro</td>\n",
       "      <td>health</td>\n",
       "      <td>A 14-year-old girl is brought to the physician...</td>\n",
       "      <td>You are a trained medical professional special...</td>\n",
       "      <td>The most likely defense mechanism the patient ...</td>\n",
       "      <td>A</td>\n",
       "      <td>A</td>\n",
       "      <td>1</td>\n",
       "    </tr>\n",
       "    <tr>\n",
       "      <th>2826</th>\n",
       "      <td>mmlu_pro</td>\n",
       "      <td>health</td>\n",
       "      <td>A 14-year-old girl is brought to the physician...</td>\n",
       "      <td>You are a psychologist specializing in adolesc...</td>\n",
       "      <td>The most likely defense mechanism the patient ...</td>\n",
       "      <td>A</td>\n",
       "      <td>A</td>\n",
       "      <td>1</td>\n",
       "    </tr>\n",
       "    <tr>\n",
       "      <th>2827</th>\n",
       "      <td>mmlu_pro</td>\n",
       "      <td>health</td>\n",
       "      <td>A 14-year-old girl is brought to the physician...</td>\n",
       "      <td>You are a licensed psychologist or psychiatris...</td>\n",
       "      <td>The best answer here is **(A) Acting out**. He...</td>\n",
       "      <td>A</td>\n",
       "      <td>A</td>\n",
       "      <td>1</td>\n",
       "    </tr>\n",
       "    <tr>\n",
       "      <th>2828</th>\n",
       "      <td>mmlu_pro</td>\n",
       "      <td>health</td>\n",
       "      <td>A 14-year-old girl is brought to the physician...</td>\n",
       "      <td>You are a skilled mental health professional, ...</td>\n",
       "      <td>The answer is **(A) Acting out**. Here's why:\\...</td>\n",
       "      <td>A</td>\n",
       "      <td>A</td>\n",
       "      <td>1</td>\n",
       "    </tr>\n",
       "    <tr>\n",
       "      <th>...</th>\n",
       "      <td>...</td>\n",
       "      <td>...</td>\n",
       "      <td>...</td>\n",
       "      <td>...</td>\n",
       "      <td>...</td>\n",
       "      <td>...</td>\n",
       "      <td>...</td>\n",
       "      <td>...</td>\n",
       "    </tr>\n",
       "    <tr>\n",
       "      <th>168787</th>\n",
       "      <td>mmlu_pro</td>\n",
       "      <td>law</td>\n",
       "      <td>Who said that “Jurisprudence is the eye of law...</td>\n",
       "      <td>You are a legal scholar, perhaps a professor s...</td>\n",
       "      <td>The answer is **(C) Savigny**.\\n\\nThis maxim, ...</td>\n",
       "      <td>H</td>\n",
       "      <td>C</td>\n",
       "      <td>0</td>\n",
       "    </tr>\n",
       "    <tr>\n",
       "      <th>168788</th>\n",
       "      <td>mmlu_pro</td>\n",
       "      <td>law</td>\n",
       "      <td>Who said that “Jurisprudence is the eye of law...</td>\n",
       "      <td>You are Salmond, a renowned Scottish legal sch...</td>\n",
       "      <td>The answer is **(A) Pound**.  \\n\\n**Roscoe Pou...</td>\n",
       "      <td>H</td>\n",
       "      <td>A</td>\n",
       "      <td>0</td>\n",
       "    </tr>\n",
       "    <tr>\n",
       "      <th>168789</th>\n",
       "      <td>mmlu_pro</td>\n",
       "      <td>law</td>\n",
       "      <td>Who said that “Jurisprudence is the eye of law...</td>\n",
       "      <td>You are a legal scholar specializing in the hi...</td>\n",
       "      <td>The correct answer is **(G) Blackstone**. \\n\\n...</td>\n",
       "      <td>H</td>\n",
       "      <td>G</td>\n",
       "      <td>0</td>\n",
       "    </tr>\n",
       "    <tr>\n",
       "      <th>168790</th>\n",
       "      <td>mmlu_pro</td>\n",
       "      <td>law</td>\n",
       "      <td>Who said that “Jurisprudence is the eye of law...</td>\n",
       "      <td>You are a legal scholar with a deep understand...</td>\n",
       "      <td>The answer is **(A) Pound**. \\n\\nHere's why:\\n...</td>\n",
       "      <td>H</td>\n",
       "      <td>A</td>\n",
       "      <td>0</td>\n",
       "    </tr>\n",
       "    <tr>\n",
       "      <th>168791</th>\n",
       "      <td>mmlu_pro</td>\n",
       "      <td>law</td>\n",
       "      <td>Who said that “Jurisprudence is the eye of law...</td>\n",
       "      <td>You are a legal scholar specializing in the hi...</td>\n",
       "      <td>The correct answer is **(A) Pound**.\\n\\nHere's...</td>\n",
       "      <td>H</td>\n",
       "      <td>A</td>\n",
       "      <td>0</td>\n",
       "    </tr>\n",
       "  </tbody>\n",
       "</table>\n",
       "<p>2544 rows × 8 columns</p>\n",
       "</div>"
      ]
     },
     "execution_count": 5,
     "metadata": {},
     "output_type": "execute_result"
    }
   ],
   "execution_count": 5
  },
  {
   "metadata": {},
   "cell_type": "markdown",
   "source": "Even though some agents seem to be duplicates, they are just very similar. Some seem to be very similar, yet not the same. So inputs with 16 agents seem to be part of the dataset.",
   "id": "a30475d13d600414"
  },
  {
   "metadata": {},
   "cell_type": "markdown",
   "source": [
    "## Remove double line breaks\n",
    "\n",
    "Some rows contain agent strings that only differ by a double line break. We remove the double line breaks so the duplicates get identified correctly."
   ],
   "id": "fa5504912badb630"
  },
  {
   "metadata": {
    "ExecuteTime": {
     "end_time": "2025-03-05T13:53:36.411079Z",
     "start_time": "2025-03-05T13:53:36.076527Z"
    }
   },
   "cell_type": "code",
   "source": "data['agent'] = data['agent'].str.replace('\\\\n\\\\n', '\\\\n', regex=True)",
   "id": "fd1b5b7c40329f21",
   "outputs": [],
   "execution_count": 6
  },
  {
   "metadata": {},
   "cell_type": "markdown",
   "source": "## Remove any duplicates",
   "id": "a8df612e135f7960"
  },
  {
   "metadata": {
    "ExecuteTime": {
     "end_time": "2025-03-05T13:53:38.525848Z",
     "start_time": "2025-03-05T13:53:38.252119Z"
    }
   },
   "cell_type": "code",
   "source": "data_unique = data.drop_duplicates(subset=['input', 'agent'], keep='first')",
   "id": "5a527cd19ad4eb4d",
   "outputs": [],
   "execution_count": 7
  },
  {
   "metadata": {},
   "cell_type": "markdown",
   "source": "## Check outcome",
   "id": "50b7b049d96e638a"
  },
  {
   "metadata": {
    "ExecuteTime": {
     "end_time": "2025-03-05T13:53:39.874329Z",
     "start_time": "2025-03-05T13:53:39.846720Z"
    }
   },
   "cell_type": "code",
   "source": "data_unique['input'].value_counts().unique()",
   "id": "363b998b8712310a",
   "outputs": [
    {
     "data": {
      "text/plain": [
       "array([15, 14, 13, 12, 11,  9,  8,  7,  6,  5,  4])"
      ]
     },
     "execution_count": 8,
     "metadata": {},
     "output_type": "execute_result"
    }
   ],
   "execution_count": 8
  },
  {
   "metadata": {
    "ExecuteTime": {
     "end_time": "2025-03-05T13:53:41.484235Z",
     "start_time": "2025-03-05T13:53:41.451644Z"
    }
   },
   "cell_type": "code",
   "source": "data_unique[data_unique['input'] == \"A 14-year-old girl is brought to the physician after her mother learned that she began having sexual intercourse with various partners 1 month ago. She does not use condoms or other contraception. The mother is concerned about her behavior. The patient's parents separated 3 months ago. She had been an honor student and excelled in sports and leadership positions at school before the separation. Since the separation, however, she has become sullen, defiant, and rebellious. She has begun smoking cigarettes, disobeying her curfew, and being truant from school. This patient is most likely using which of the following defense mechanisms?\\n(A) Acting out\\n(B) Intellectualization\\n(C) Projection\\n(D) Regression\\n(E) Displacement\\n(F) Rationalization\\n(G) Denial\\n(H) Repression\\n(I) Sublimation\\n(J) Reaction formation<end_of_turn>\\n<start_of_turn>model\\n\"]",
   "id": "f1deced1c10ca06f",
   "outputs": [
    {
     "data": {
      "text/plain": [
       "       dataset category                                              input  \\\n",
       "2824  mmlu_pro   health  A 14-year-old girl is brought to the physician...   \n",
       "2825  mmlu_pro   health  A 14-year-old girl is brought to the physician...   \n",
       "2826  mmlu_pro   health  A 14-year-old girl is brought to the physician...   \n",
       "2827  mmlu_pro   health  A 14-year-old girl is brought to the physician...   \n",
       "2828  mmlu_pro   health  A 14-year-old girl is brought to the physician...   \n",
       "2829  mmlu_pro   health  A 14-year-old girl is brought to the physician...   \n",
       "2830  mmlu_pro   health  A 14-year-old girl is brought to the physician...   \n",
       "2831  mmlu_pro   health  A 14-year-old girl is brought to the physician...   \n",
       "2832  mmlu_pro   health  A 14-year-old girl is brought to the physician...   \n",
       "2833  mmlu_pro   health  A 14-year-old girl is brought to the physician...   \n",
       "2834  mmlu_pro   health  A 14-year-old girl is brought to the physician...   \n",
       "2835  mmlu_pro   health  A 14-year-old girl is brought to the physician...   \n",
       "2836  mmlu_pro   health  A 14-year-old girl is brought to the physician...   \n",
       "2837  mmlu_pro   health  A 14-year-old girl is brought to the physician...   \n",
       "2839  mmlu_pro   health  A 14-year-old girl is brought to the physician...   \n",
       "\n",
       "                                                  agent  \\\n",
       "2824  You are a psychiatrist or therapist specializi...   \n",
       "2825  You are a trained medical professional special...   \n",
       "2826  You are a psychologist specializing in adolesc...   \n",
       "2827  You are a licensed psychologist or psychiatris...   \n",
       "2828  You are a skilled mental health professional, ...   \n",
       "2829  You are a qualified psychiatrist or psychologi...   \n",
       "2830  You are a licensed therapist specializing in a...   \n",
       "2831  You are a licensed medical professional, speci...   \n",
       "2832  You are a medical professional specializing in...   \n",
       "2833  You are a qualified medical professional, like...   \n",
       "2834  You are a medical professional, likely a psych...   \n",
       "2835                                               None   \n",
       "2836  You are a child psychologist specializing in a...   \n",
       "2837  You are a trained psychiatrist or psychologist...   \n",
       "2839  You are a qualified psychiatrist or psychologi...   \n",
       "\n",
       "                                               response ground_truth pred  \\\n",
       "2824  The correct answer is **(A) Acting out**. Here...            A    A   \n",
       "2825  The most likely defense mechanism the patient ...            A    A   \n",
       "2826  The most likely defense mechanism the patient ...            A    A   \n",
       "2827  The best answer here is **(A) Acting out**. He...            A    A   \n",
       "2828  The answer is **(A) Acting out**. Here's why:\\...            A    A   \n",
       "2829  The most likely defense mechanism at play here...            A    A   \n",
       "2830  The answer is **(A) Acting out**. Here's why:\\...            A    A   \n",
       "2831  The most likely defense mechanism at play here...            A    A   \n",
       "2832  The most likely defense mechanism at play here...            A    A   \n",
       "2833  The answer is **(A) Acting out**. Here's why:\\...            A    A   \n",
       "2834  This situation points strongly to **(A) Acting...            A    A   \n",
       "2835  The most likely defense mechanism in this scen...            A    A   \n",
       "2836  The answer is **(A) Acting out**. Here's why:\\...            A    A   \n",
       "2837  The best answer here is **(A) Acting out**. He...            A    A   \n",
       "2839  The most likely defense mechanism the patient ...            A    A   \n",
       "\n",
       "      score  \n",
       "2824      1  \n",
       "2825      1  \n",
       "2826      1  \n",
       "2827      1  \n",
       "2828      1  \n",
       "2829      1  \n",
       "2830      1  \n",
       "2831      1  \n",
       "2832      1  \n",
       "2833      1  \n",
       "2834      1  \n",
       "2835      1  \n",
       "2836      1  \n",
       "2837      1  \n",
       "2839      1  "
      ],
      "text/html": [
       "<div>\n",
       "<style scoped>\n",
       "    .dataframe tbody tr th:only-of-type {\n",
       "        vertical-align: middle;\n",
       "    }\n",
       "\n",
       "    .dataframe tbody tr th {\n",
       "        vertical-align: top;\n",
       "    }\n",
       "\n",
       "    .dataframe thead th {\n",
       "        text-align: right;\n",
       "    }\n",
       "</style>\n",
       "<table border=\"1\" class=\"dataframe\">\n",
       "  <thead>\n",
       "    <tr style=\"text-align: right;\">\n",
       "      <th></th>\n",
       "      <th>dataset</th>\n",
       "      <th>category</th>\n",
       "      <th>input</th>\n",
       "      <th>agent</th>\n",
       "      <th>response</th>\n",
       "      <th>ground_truth</th>\n",
       "      <th>pred</th>\n",
       "      <th>score</th>\n",
       "    </tr>\n",
       "  </thead>\n",
       "  <tbody>\n",
       "    <tr>\n",
       "      <th>2824</th>\n",
       "      <td>mmlu_pro</td>\n",
       "      <td>health</td>\n",
       "      <td>A 14-year-old girl is brought to the physician...</td>\n",
       "      <td>You are a psychiatrist or therapist specializi...</td>\n",
       "      <td>The correct answer is **(A) Acting out**. Here...</td>\n",
       "      <td>A</td>\n",
       "      <td>A</td>\n",
       "      <td>1</td>\n",
       "    </tr>\n",
       "    <tr>\n",
       "      <th>2825</th>\n",
       "      <td>mmlu_pro</td>\n",
       "      <td>health</td>\n",
       "      <td>A 14-year-old girl is brought to the physician...</td>\n",
       "      <td>You are a trained medical professional special...</td>\n",
       "      <td>The most likely defense mechanism the patient ...</td>\n",
       "      <td>A</td>\n",
       "      <td>A</td>\n",
       "      <td>1</td>\n",
       "    </tr>\n",
       "    <tr>\n",
       "      <th>2826</th>\n",
       "      <td>mmlu_pro</td>\n",
       "      <td>health</td>\n",
       "      <td>A 14-year-old girl is brought to the physician...</td>\n",
       "      <td>You are a psychologist specializing in adolesc...</td>\n",
       "      <td>The most likely defense mechanism the patient ...</td>\n",
       "      <td>A</td>\n",
       "      <td>A</td>\n",
       "      <td>1</td>\n",
       "    </tr>\n",
       "    <tr>\n",
       "      <th>2827</th>\n",
       "      <td>mmlu_pro</td>\n",
       "      <td>health</td>\n",
       "      <td>A 14-year-old girl is brought to the physician...</td>\n",
       "      <td>You are a licensed psychologist or psychiatris...</td>\n",
       "      <td>The best answer here is **(A) Acting out**. He...</td>\n",
       "      <td>A</td>\n",
       "      <td>A</td>\n",
       "      <td>1</td>\n",
       "    </tr>\n",
       "    <tr>\n",
       "      <th>2828</th>\n",
       "      <td>mmlu_pro</td>\n",
       "      <td>health</td>\n",
       "      <td>A 14-year-old girl is brought to the physician...</td>\n",
       "      <td>You are a skilled mental health professional, ...</td>\n",
       "      <td>The answer is **(A) Acting out**. Here's why:\\...</td>\n",
       "      <td>A</td>\n",
       "      <td>A</td>\n",
       "      <td>1</td>\n",
       "    </tr>\n",
       "    <tr>\n",
       "      <th>2829</th>\n",
       "      <td>mmlu_pro</td>\n",
       "      <td>health</td>\n",
       "      <td>A 14-year-old girl is brought to the physician...</td>\n",
       "      <td>You are a qualified psychiatrist or psychologi...</td>\n",
       "      <td>The most likely defense mechanism at play here...</td>\n",
       "      <td>A</td>\n",
       "      <td>A</td>\n",
       "      <td>1</td>\n",
       "    </tr>\n",
       "    <tr>\n",
       "      <th>2830</th>\n",
       "      <td>mmlu_pro</td>\n",
       "      <td>health</td>\n",
       "      <td>A 14-year-old girl is brought to the physician...</td>\n",
       "      <td>You are a licensed therapist specializing in a...</td>\n",
       "      <td>The answer is **(A) Acting out**. Here's why:\\...</td>\n",
       "      <td>A</td>\n",
       "      <td>A</td>\n",
       "      <td>1</td>\n",
       "    </tr>\n",
       "    <tr>\n",
       "      <th>2831</th>\n",
       "      <td>mmlu_pro</td>\n",
       "      <td>health</td>\n",
       "      <td>A 14-year-old girl is brought to the physician...</td>\n",
       "      <td>You are a licensed medical professional, speci...</td>\n",
       "      <td>The most likely defense mechanism at play here...</td>\n",
       "      <td>A</td>\n",
       "      <td>A</td>\n",
       "      <td>1</td>\n",
       "    </tr>\n",
       "    <tr>\n",
       "      <th>2832</th>\n",
       "      <td>mmlu_pro</td>\n",
       "      <td>health</td>\n",
       "      <td>A 14-year-old girl is brought to the physician...</td>\n",
       "      <td>You are a medical professional specializing in...</td>\n",
       "      <td>The most likely defense mechanism at play here...</td>\n",
       "      <td>A</td>\n",
       "      <td>A</td>\n",
       "      <td>1</td>\n",
       "    </tr>\n",
       "    <tr>\n",
       "      <th>2833</th>\n",
       "      <td>mmlu_pro</td>\n",
       "      <td>health</td>\n",
       "      <td>A 14-year-old girl is brought to the physician...</td>\n",
       "      <td>You are a qualified medical professional, like...</td>\n",
       "      <td>The answer is **(A) Acting out**. Here's why:\\...</td>\n",
       "      <td>A</td>\n",
       "      <td>A</td>\n",
       "      <td>1</td>\n",
       "    </tr>\n",
       "    <tr>\n",
       "      <th>2834</th>\n",
       "      <td>mmlu_pro</td>\n",
       "      <td>health</td>\n",
       "      <td>A 14-year-old girl is brought to the physician...</td>\n",
       "      <td>You are a medical professional, likely a psych...</td>\n",
       "      <td>This situation points strongly to **(A) Acting...</td>\n",
       "      <td>A</td>\n",
       "      <td>A</td>\n",
       "      <td>1</td>\n",
       "    </tr>\n",
       "    <tr>\n",
       "      <th>2835</th>\n",
       "      <td>mmlu_pro</td>\n",
       "      <td>health</td>\n",
       "      <td>A 14-year-old girl is brought to the physician...</td>\n",
       "      <td>None</td>\n",
       "      <td>The most likely defense mechanism in this scen...</td>\n",
       "      <td>A</td>\n",
       "      <td>A</td>\n",
       "      <td>1</td>\n",
       "    </tr>\n",
       "    <tr>\n",
       "      <th>2836</th>\n",
       "      <td>mmlu_pro</td>\n",
       "      <td>health</td>\n",
       "      <td>A 14-year-old girl is brought to the physician...</td>\n",
       "      <td>You are a child psychologist specializing in a...</td>\n",
       "      <td>The answer is **(A) Acting out**. Here's why:\\...</td>\n",
       "      <td>A</td>\n",
       "      <td>A</td>\n",
       "      <td>1</td>\n",
       "    </tr>\n",
       "    <tr>\n",
       "      <th>2837</th>\n",
       "      <td>mmlu_pro</td>\n",
       "      <td>health</td>\n",
       "      <td>A 14-year-old girl is brought to the physician...</td>\n",
       "      <td>You are a trained psychiatrist or psychologist...</td>\n",
       "      <td>The best answer here is **(A) Acting out**. He...</td>\n",
       "      <td>A</td>\n",
       "      <td>A</td>\n",
       "      <td>1</td>\n",
       "    </tr>\n",
       "    <tr>\n",
       "      <th>2839</th>\n",
       "      <td>mmlu_pro</td>\n",
       "      <td>health</td>\n",
       "      <td>A 14-year-old girl is brought to the physician...</td>\n",
       "      <td>You are a qualified psychiatrist or psychologi...</td>\n",
       "      <td>The most likely defense mechanism the patient ...</td>\n",
       "      <td>A</td>\n",
       "      <td>A</td>\n",
       "      <td>1</td>\n",
       "    </tr>\n",
       "  </tbody>\n",
       "</table>\n",
       "</div>"
      ]
     },
     "execution_count": 9,
     "metadata": {},
     "output_type": "execute_result"
    }
   ],
   "execution_count": 9
  },
  {
   "metadata": {},
   "cell_type": "markdown",
   "source": "There are still inputs with more than 8 different personas.",
   "id": "c3f3ff57b377162b"
  },
  {
   "metadata": {
    "ExecuteTime": {
     "end_time": "2025-03-05T13:53:45.208072Z",
     "start_time": "2025-03-05T13:53:45.205008Z"
    }
   },
   "cell_type": "code",
   "source": "print(f'Deleted rows: {len(data.index) - len(data_unique.index)}')",
   "id": "cd5fbdd117b3e037",
   "outputs": [
    {
     "name": "stdout",
     "output_type": "stream",
     "text": [
      "Deleted rows: 1921\n"
     ]
    }
   ],
   "execution_count": 10
  },
  {
   "metadata": {},
   "cell_type": "markdown",
   "source": "## Check for empty lines",
   "id": "13191e46c3c356be"
  },
  {
   "metadata": {
    "ExecuteTime": {
     "end_time": "2025-03-05T13:53:47.542067Z",
     "start_time": "2025-03-05T13:53:47.467379Z"
    }
   },
   "cell_type": "code",
   "source": "data_unique.info()",
   "id": "92350a22ee83d394",
   "outputs": [
    {
     "name": "stdout",
     "output_type": "stream",
     "text": [
      "<class 'pandas.core.frame.DataFrame'>\n",
      "Index: 173191 entries, 0 to 175111\n",
      "Data columns (total 8 columns):\n",
      " #   Column        Non-Null Count   Dtype \n",
      "---  ------        --------------   ----- \n",
      " 0   dataset       173191 non-null  object\n",
      " 1   category      173191 non-null  object\n",
      " 2   input         173191 non-null  object\n",
      " 3   agent         151461 non-null  object\n",
      " 4   response      173169 non-null  object\n",
      " 5   ground_truth  173191 non-null  object\n",
      " 6   pred          173191 non-null  object\n",
      " 7   score         173191 non-null  int64 \n",
      "dtypes: int64(1), object(7)\n",
      "memory usage: 11.9+ MB\n"
     ]
    }
   ],
   "execution_count": 11
  },
  {
   "metadata": {},
   "cell_type": "markdown",
   "source": "Empty agent column indicates no persona was used. This is not an actual empty line. These will not be deleted. All other columns contain the expected (full) amount of entries.",
   "id": "c35c60575aad7e1b"
  },
  {
   "metadata": {},
   "cell_type": "markdown",
   "source": [
    "## Clean unusable instances\n",
    "\n",
    "For the training to work, we need some sort of performance hierarchy between the agents. Thus, all instances will be deleted where either all or no agents are able to complete the task. We can not rank these agents since they all perform equally good or bad."
   ],
   "id": "5f4a8f8185ee9bf3"
  },
  {
   "metadata": {
    "ExecuteTime": {
     "end_time": "2025-03-05T13:53:53.895188Z",
     "start_time": "2025-03-05T13:53:50.733302Z"
    }
   },
   "cell_type": "code",
   "source": [
    "# Group rows by input and keep only if unique values in score is larger than 1 (as else, all would be the same)\n",
    "data_filtered = data_unique[data_unique.groupby('input')['score'].transform(lambda x: x.nunique() > 1)]"
   ],
   "id": "192a539268836fe4",
   "outputs": [],
   "execution_count": 12
  },
  {
   "metadata": {},
   "cell_type": "markdown",
   "source": "## Some information about the data",
   "id": "359ef1b21f85245d"
  },
  {
   "metadata": {
    "ExecuteTime": {
     "end_time": "2025-03-05T13:53:55.838737Z",
     "start_time": "2025-03-05T13:53:55.835701Z"
    }
   },
   "cell_type": "code",
   "source": "print(f'Deleted rows: {len(data.index) - len(data_filtered.index)}')",
   "id": "661f521cf76de0e9",
   "outputs": [
    {
     "name": "stdout",
     "output_type": "stream",
     "text": [
      "Deleted rows: 110461\n"
     ]
    }
   ],
   "execution_count": 13
  },
  {
   "metadata": {
    "ExecuteTime": {
     "end_time": "2025-03-05T13:54:00.693446Z",
     "start_time": "2025-03-05T13:54:00.690310Z"
    }
   },
   "cell_type": "code",
   "source": "print(f'Remaining rows: {len(data_filtered.index)}')",
   "id": "9bca2bf2ac5b1a2",
   "outputs": [
    {
     "name": "stdout",
     "output_type": "stream",
     "text": [
      "Remaining rows: 64651\n"
     ]
    }
   ],
   "execution_count": 14
  },
  {
   "metadata": {
    "ExecuteTime": {
     "end_time": "2025-03-05T13:54:01.935093Z",
     "start_time": "2025-03-05T13:54:01.880649Z"
    }
   },
   "cell_type": "code",
   "source": "print(f\"Avg. agents per prompt: {len(data_filtered) / len(data_filtered['input'].unique())}\")",
   "id": "f819a7e229e1403a",
   "outputs": [
    {
     "name": "stdout",
     "output_type": "stream",
     "text": [
      "Avg. agents per prompt: 7.981604938271605\n"
     ]
    }
   ],
   "execution_count": 15
  },
  {
   "metadata": {
    "ExecuteTime": {
     "end_time": "2025-03-05T13:54:02.698919Z",
     "start_time": "2025-03-05T13:54:02.687586Z"
    }
   },
   "cell_type": "code",
   "source": "print(f\"Number of winning agents: {len(data_filtered[data_filtered['score'] == 1])}\")",
   "id": "b546e9035277b9b3",
   "outputs": [
    {
     "name": "stdout",
     "output_type": "stream",
     "text": [
      "Number of winning agents: 33130\n"
     ]
    }
   ],
   "execution_count": 16
  },
  {
   "metadata": {
    "ExecuteTime": {
     "end_time": "2025-03-05T13:54:03.443411Z",
     "start_time": "2025-03-05T13:54:03.431972Z"
    }
   },
   "cell_type": "code",
   "source": "print(f\"Number of losing agents: {len(data_filtered[data_filtered['score'] == 0])}\")",
   "id": "b9490966637da6d",
   "outputs": [
    {
     "name": "stdout",
     "output_type": "stream",
     "text": [
      "Number of losing agents: 31521\n"
     ]
    }
   ],
   "execution_count": 17
  },
  {
   "metadata": {},
   "cell_type": "markdown",
   "source": [
    "## Setup training dataset to allow DPO training\n",
    "\n",
    "In this section, the actual dataset for training, testing and evaluating the model will be constructed. This will be done according to the documentation here: https://huggingface.co/docs/trl/main/en/dataset_formats#preference\n",
    "\n",
    "There are two possible formats standard and conversational, as well as implicit and explicit form. Please refer to the documentation linked above to see examples.\n",
    "\n",
    "In the following code, the dataset is built in the so-called standard format with explicit prompts (which is recommended).\n",
    "\n",
    "Training samples are tuples of $(x, y_w, y_l)$, where $y_w$ is a winning agent prompt string, $y_l$ is a losing agent prompt string and $x$ is the model input."
   ],
   "id": "27384701e1dee4a8"
  },
  {
   "metadata": {
    "ExecuteTime": {
     "end_time": "2025-03-05T14:42:09.911588Z",
     "start_time": "2025-03-05T14:41:56.732026Z"
    }
   },
   "cell_type": "code",
   "source": [
    "train_data = []\n",
    "count = 0\n",
    "for input_val, group in data_filtered.groupby('input'):\n",
    "    # Group by input and get winning and losing outputs\n",
    "    winning_agents = group[group['score'] == 1]\n",
    "    losing_agents = group[group['score'] == 0]\n",
    "\n",
    "    for idx_winning, winning in winning_agents.iterrows():\n",
    "        for idx_losing, losing in losing_agents.iterrows():\n",
    "            # As a sanity check I want to check that the inputs are actually the same\n",
    "            if winning['input'] is not losing['input']:\n",
    "                raise Exception(\"Illegal combination of winning and losing input\")\n",
    "\n",
    "            model_task = 'Given the following task, print a suitable agent string that will answer it as good as possible: '\n",
    "\n",
    "            train_data.append({\n",
    "                'prompt': f'{model_task} {input_val}', # or losing['input'] or winning['input']\n",
    "                'chosen': winning['agent'],\n",
    "                'rejected': losing['agent']\n",
    "            })"
   ],
   "id": "7dcd06923cb27933",
   "outputs": [],
   "execution_count": 29
  },
  {
   "metadata": {},
   "cell_type": "markdown",
   "source": [
    "\" _Ad crumenam_ \" is a specific kind of\n",
    "(A) Slippery Slope\n",
    "(B) Hasty Conclusion\n",
    "(C) False sign\n",
    "(D) False analogy\n",
    "(E) Bandwagon Fallacy\n",
    "(F) Circular Reasoning\n",
    "(G) Hasty Generalization\n",
    "(H) Straw Man Fallacy\n",
    "(I) Red Herring<end_of_turn>\n",
    "<start_of_turn>model why <end_of_turn><start_of_turn>?"
   ],
   "id": "4b45df29946eac89"
  },
  {
   "metadata": {
    "ExecuteTime": {
     "end_time": "2025-03-05T14:42:35.023019Z",
     "start_time": "2025-03-05T14:42:35.019042Z"
    }
   },
   "cell_type": "code",
   "source": "print(f'Training (and test/eval) samples: {len(train_data)}')",
   "id": "c7dbcdc7b81c6259",
   "outputs": [
    {
     "name": "stdout",
     "output_type": "stream",
     "text": [
      "Training (and test/eval) samples: 86218\n"
     ]
    }
   ],
   "execution_count": 30
  },
  {
   "metadata": {
    "ExecuteTime": {
     "end_time": "2025-03-05T14:42:36.213025Z",
     "start_time": "2025-03-05T14:42:36.120478Z"
    }
   },
   "cell_type": "code",
   "source": "train_df = pd.DataFrame(train_data)",
   "id": "fea4ca4b70e90330",
   "outputs": [],
   "execution_count": 31
  },
  {
   "metadata": {
    "ExecuteTime": {
     "end_time": "2025-03-05T14:47:13.371913Z",
     "start_time": "2025-03-05T14:47:13.270757Z"
    }
   },
   "cell_type": "code",
   "source": [
    "# Get rid of chat markers (though is this correct?)\n",
    "train_df['prompt'] = train_df['prompt'].apply(lambda x: x.replace('<end_of_turn>\\n<start_of_turn>model\\n', '').strip())"
   ],
   "id": "4850a48f981731fe",
   "outputs": [],
   "execution_count": 35
  },
  {
   "metadata": {
    "ExecuteTime": {
     "end_time": "2025-03-05T14:47:16.989863Z",
     "start_time": "2025-03-05T14:47:16.981429Z"
    }
   },
   "cell_type": "code",
   "source": "train_df.head()",
   "id": "e23782a7b62d7767",
   "outputs": [
    {
     "data": {
      "text/plain": [
       "                                              prompt  \\\n",
       "0  Given the following task, print a suitable age...   \n",
       "1  Given the following task, print a suitable age...   \n",
       "2  Given the following task, print a suitable age...   \n",
       "3  Given the following task, print a suitable age...   \n",
       "4  Given the following task, print a suitable age...   \n",
       "\n",
       "                                              chosen  \\\n",
       "0                                               None   \n",
       "1                                               None   \n",
       "2  You are a classicist, perhaps with a focus on ...   \n",
       "3  You are a classicist, perhaps with a focus on ...   \n",
       "4  You are a classical scholar, specializing in a...   \n",
       "\n",
       "                                            rejected  \n",
       "0  You are a logician, proficient in identifying ...  \n",
       "1  You are a student of logic and rhetoric, well-...  \n",
       "2  You are a logician, proficient in identifying ...  \n",
       "3  You are a student of logic and rhetoric, well-...  \n",
       "4  You are a logician, proficient in identifying ...  "
      ],
      "text/html": [
       "<div>\n",
       "<style scoped>\n",
       "    .dataframe tbody tr th:only-of-type {\n",
       "        vertical-align: middle;\n",
       "    }\n",
       "\n",
       "    .dataframe tbody tr th {\n",
       "        vertical-align: top;\n",
       "    }\n",
       "\n",
       "    .dataframe thead th {\n",
       "        text-align: right;\n",
       "    }\n",
       "</style>\n",
       "<table border=\"1\" class=\"dataframe\">\n",
       "  <thead>\n",
       "    <tr style=\"text-align: right;\">\n",
       "      <th></th>\n",
       "      <th>prompt</th>\n",
       "      <th>chosen</th>\n",
       "      <th>rejected</th>\n",
       "    </tr>\n",
       "  </thead>\n",
       "  <tbody>\n",
       "    <tr>\n",
       "      <th>0</th>\n",
       "      <td>Given the following task, print a suitable age...</td>\n",
       "      <td>None</td>\n",
       "      <td>You are a logician, proficient in identifying ...</td>\n",
       "    </tr>\n",
       "    <tr>\n",
       "      <th>1</th>\n",
       "      <td>Given the following task, print a suitable age...</td>\n",
       "      <td>None</td>\n",
       "      <td>You are a student of logic and rhetoric, well-...</td>\n",
       "    </tr>\n",
       "    <tr>\n",
       "      <th>2</th>\n",
       "      <td>Given the following task, print a suitable age...</td>\n",
       "      <td>You are a classicist, perhaps with a focus on ...</td>\n",
       "      <td>You are a logician, proficient in identifying ...</td>\n",
       "    </tr>\n",
       "    <tr>\n",
       "      <th>3</th>\n",
       "      <td>Given the following task, print a suitable age...</td>\n",
       "      <td>You are a classicist, perhaps with a focus on ...</td>\n",
       "      <td>You are a student of logic and rhetoric, well-...</td>\n",
       "    </tr>\n",
       "    <tr>\n",
       "      <th>4</th>\n",
       "      <td>Given the following task, print a suitable age...</td>\n",
       "      <td>You are a classical scholar, specializing in a...</td>\n",
       "      <td>You are a logician, proficient in identifying ...</td>\n",
       "    </tr>\n",
       "  </tbody>\n",
       "</table>\n",
       "</div>"
      ]
     },
     "execution_count": 36,
     "metadata": {},
     "output_type": "execute_result"
    }
   ],
   "execution_count": 36
  },
  {
   "metadata": {
    "ExecuteTime": {
     "end_time": "2025-03-05T14:52:18.366628Z",
     "start_time": "2025-03-05T14:52:18.142298Z"
    }
   },
   "cell_type": "code",
   "source": "train_df.to_parquet('data/agent_compt_cleaned.parquet')",
   "id": "3ada6131e4c0d417",
   "outputs": [],
   "execution_count": 38
  },
  {
   "metadata": {},
   "cell_type": "code",
   "outputs": [],
   "execution_count": null,
   "source": "",
   "id": "4b727b0c4a8fda5d"
  }
 ],
 "metadata": {
  "kernelspec": {
   "display_name": "Python 3",
   "language": "python",
   "name": "python3"
  },
  "language_info": {
   "codemirror_mode": {
    "name": "ipython",
    "version": 2
   },
   "file_extension": ".py",
   "mimetype": "text/x-python",
   "name": "python",
   "nbconvert_exporter": "python",
   "pygments_lexer": "ipython2",
   "version": "2.7.6"
  }
 },
 "nbformat": 4,
 "nbformat_minor": 5
}
