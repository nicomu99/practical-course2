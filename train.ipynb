{
 "cells": [
  {
   "metadata": {},
   "cell_type": "markdown",
   "source": "# Training Routine",
   "id": "a14f7e99aebcfe03"
  },
  {
   "cell_type": "code",
   "id": "initial_id",
   "metadata": {
    "collapsed": true,
    "ExecuteTime": {
     "end_time": "2025-03-05T15:04:28.861668Z",
     "start_time": "2025-03-05T15:04:28.855436Z"
    }
   },
   "source": "from datasets import load_dataset, DatasetDict",
   "outputs": [],
   "execution_count": 9
  },
  {
   "metadata": {},
   "cell_type": "markdown",
   "source": "## Load Data",
   "id": "a00c3d1367933dba"
  },
  {
   "metadata": {
    "ExecuteTime": {
     "end_time": "2025-03-05T15:03:42.112611Z",
     "start_time": "2025-03-05T15:03:41.495907Z"
    }
   },
   "cell_type": "code",
   "source": "full_dataset = load_dataset('parquet', data_files={'train': 'data/agent_compt_cleaned.parquet'})",
   "id": "cba64e866a4913b4",
   "outputs": [],
   "execution_count": 8
  },
  {
   "metadata": {
    "ExecuteTime": {
     "end_time": "2025-03-05T15:09:08.035568Z",
     "start_time": "2025-03-05T15:09:07.994361Z"
    }
   },
   "cell_type": "code",
   "source": [
    "train_split = full_dataset['train'].train_test_split(test_size=0.2)\n",
    "val_split = train_split['test'].train_test_split(test_size=0.5)"
   ],
   "id": "fa835076147f3f0d",
   "outputs": [],
   "execution_count": 18
  },
  {
   "metadata": {
    "ExecuteTime": {
     "end_time": "2025-03-05T15:10:07.534047Z",
     "start_time": "2025-03-05T15:10:07.530256Z"
    }
   },
   "cell_type": "code",
   "source": [
    "dataset = DatasetDict({\n",
    "    'train': train_split['train'],\n",
    "    'test': val_split['test'],\n",
    "    'validation': val_split['train']\n",
    "})"
   ],
   "id": "eae5ee975d001362",
   "outputs": [],
   "execution_count": 23
  },
  {
   "metadata": {
    "ExecuteTime": {
     "end_time": "2025-03-05T15:10:07.927488Z",
     "start_time": "2025-03-05T15:10:07.918818Z"
    }
   },
   "cell_type": "code",
   "source": "dataset",
   "id": "fb27049c5397b749",
   "outputs": [
    {
     "data": {
      "text/plain": [
       "DatasetDict({\n",
       "    train: Dataset({\n",
       "        features: ['prompt', 'chosen', 'rejected'],\n",
       "        num_rows: 68974\n",
       "    })\n",
       "    test: Dataset({\n",
       "        features: ['prompt', 'chosen', 'rejected'],\n",
       "        num_rows: 8622\n",
       "    })\n",
       "    validation: Dataset({\n",
       "        features: ['prompt', 'chosen', 'rejected'],\n",
       "        num_rows: 8622\n",
       "    })\n",
       "})"
      ]
     },
     "execution_count": 24,
     "metadata": {},
     "output_type": "execute_result"
    }
   ],
   "execution_count": 24
  },
  {
   "metadata": {},
   "cell_type": "code",
   "outputs": [],
   "execution_count": null,
   "source": "",
   "id": "2f9fdfda681194fd"
  }
 ],
 "metadata": {
  "kernelspec": {
   "display_name": "Python 3",
   "language": "python",
   "name": "python3"
  },
  "language_info": {
   "codemirror_mode": {
    "name": "ipython",
    "version": 2
   },
   "file_extension": ".py",
   "mimetype": "text/x-python",
   "name": "python",
   "nbconvert_exporter": "python",
   "pygments_lexer": "ipython2",
   "version": "2.7.6"
  }
 },
 "nbformat": 4,
 "nbformat_minor": 5
}
